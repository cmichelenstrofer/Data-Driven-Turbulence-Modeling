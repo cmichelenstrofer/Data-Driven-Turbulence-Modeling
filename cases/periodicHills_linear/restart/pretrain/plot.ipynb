{
 "cells": [
  {
   "cell_type": "markdown",
   "metadata": {},
   "source": [
    "# Case"
   ]
  },
  {
   "cell_type": "code",
   "execution_count": null,
   "metadata": {},
   "outputs": [],
   "source": [
    "import os\n",
    "\n",
    "%matplotlib notebook \n",
    "import numpy as np\n",
    "import matplotlib.pyplot as plt\n",
    "from matplotlib import colors\n",
    "import scipy.interpolate as interp\n",
    "\n",
    "results_dir = 'results' \n",
    "nbasis_tensors = 2\n",
    "tinit  = 0\n",
    "tint   = 0\n",
    "tfinal = 10000\n",
    "plot_int = False\n",
    "\n",
    "ndata = 100"
   ]
  },
  {
   "cell_type": "markdown",
   "metadata": {},
   "source": [
    "## Load Data"
   ]
  },
  {
   "cell_type": "code",
   "execution_count": null,
   "metadata": {
    "tags": []
   },
   "outputs": [],
   "source": [
    "# cost & weights\n",
    "J = []\n",
    "\n",
    "for i in range(tfinal+1):\n",
    "    iJ = np.loadtxt(os.path.join(results_dir, f'J.{i}'))\n",
    "    J.append(iJ.tolist())\n",
    "\n",
    "# initial\n",
    "g_0 = np.squeeze(np.loadtxt(os.path.join(results_dir, f'g.{tinit}')) )\n",
    "if g_0.ndim==1:\n",
    "    g_0 = np.expand_dims(g_0, 1)\n",
    "W_0 = np.loadtxt(os.path.join(results_dir, f'w.{tinit}'))\n",
    "    \n",
    "# intermediate\n",
    "if plot_int:\n",
    "    g_i = np.squeeze(np.loadtxt(os.path.join(results_dir, f'g.{tint}')) )\n",
    "    if g_i.ndim==1:\n",
    "        g_i = np.expand_dims(g_i, 1)\n",
    "    W_i = np.loadtxt(os.path.join(results_dir, f'w.{tint}'))\n",
    "    \n",
    "# final\n",
    "g_1 = np.squeeze(np.loadtxt(os.path.join(results_dir, f'g.{tfinal}')) )\n",
    "if g_1.ndim==1:\n",
    "    g_1 = np.expand_dims(g_1, 1)\n",
    "W_1 = np.loadtxt(os.path.join(results_dir, f'w.{tfinal}'))\n",
    "nweights = W_1.shape[0]\n",
    "\n",
    "# truth\n",
    "g_t = np.loadtxt(os.path.join(results_dir, 'g_truth'))\n",
    "\n",
    "# y\n",
    "y = np.loadtxt(os.path.join(results_dir, 'theta_input'))\n"
   ]
  },
  {
   "cell_type": "code",
   "execution_count": null,
   "metadata": {},
   "outputs": [],
   "source": [
    "\n",
    "mesh_shape = [ndata, ndata]\n",
    "subfigsize = 3\n",
    "\n",
    "def rs(x):\n",
    "    return x.reshape(mesh_shape)\n",
    "\n",
    "\n",
    "def get_lim(x):\n",
    "    return np.max(np.abs(x))\n",
    "\n",
    "\n",
    "def plot_comp(y, z, val, col_names, row_names, cmap='coolwarm', contour=False, lim_option='same', norm=True):\n",
    "    Nrows = len(row_names)\n",
    "    Ncols = len(col_names)\n",
    "    lim = []\n",
    "    if lim_option=='same':\n",
    "        for i in range(Nrows):\n",
    "            if norm:\n",
    "                lim.append((min(-np.finfo(float).eps, np.min(val[-1][:, i])), max(np.finfo(float).eps, np.max(val[-1][:, i]))))\n",
    "            else:\n",
    "                lim.append((np.min(val[-1][:, i]), np.max(val[-1][:, i])))\n",
    "    fig, axs = plt.subplots(Nrows, Ncols, figsize=((Ncols+0.5)*subfigsize, (Nrows+0.5)*subfigsize))\n",
    "    for irow in range (Nrows):\n",
    "        for icol in range(Ncols): \n",
    "            if contour:\n",
    "                if lim_option=='same':\n",
    "                    divnorm = colors.TwoSlopeNorm(vcenter=0, vmin=lim[irow][0], vmax=lim[irow][1])\n",
    "                    cs = axs[irow, icol].contourf(rs(y), rs(z), rs(val[icol][:,irow]), cmap=cmap, vmin=lim[irow][0], vmax=lim[irow][1])\n",
    "                elif lim_option=='different': \n",
    "                    cs = axs[irow, icol].contourf(rs(y), rs(z), rs(val[icol][:,irow]), cmap=cmap)\n",
    "                    cbar = fig.colorbar(cs, ax=axs[irow, icol], shrink=0.95)\n",
    "            else:\n",
    "                if lim_option=='same':\n",
    "                    if norm:\n",
    "                        divnorm = colors.TwoSlopeNorm(vcenter=0, vmin=lim[irow][0], vmax=lim[irow][1])\n",
    "                        cs = axs[irow,icol].pcolor(rs(y), rs(z), rs(val[icol][:,irow]), cmap=cmap, norm=divnorm, shading='auto')\n",
    "                    else:\n",
    "                        cs = axs[irow,icol].pcolor(rs(y), rs(z), rs(val[icol][:,irow]), cmap=cmap, vmin=lim[irow][0], vmax=lim[irow][1], shading='auto')\n",
    "                elif lim_option=='different': \n",
    "                    cs = axs[irow,icol].pcolor(rs(y), rs(z), rs(val[icol][:,irow]), cmap=cmap, norm=norm, shading='auto')\n",
    "                    cbar = fig.colorbar(cs, ax=axs[irow, icol], shrink=0.75)\n",
    "            plt.setp(axs[irow,icol].get_xticklabels(), visible=False)\n",
    "            plt.setp(axs[irow,icol].get_yticklabels(), visible=False)\n",
    "            axs[irow,icol].tick_params(axis='both', which='both', length=0)\n",
    "            if icol==0:\n",
    "                axs[irow,icol].set_ylabel(row_names[irow])\n",
    "            if irow==0:\n",
    "                axs[irow,icol].set_title(col_names[icol])\n",
    "            axs[irow, icol].set_aspect('equal', 'box')\n",
    "        if not contour and lim_option=='same':\n",
    "            cbar = fig.colorbar(cs, ax=axs[irow], shrink=0.75)\n",
    "    return fig, axs"
   ]
  },
  {
   "cell_type": "markdown",
   "metadata": {},
   "source": [
    "# Results"
   ]
  },
  {
   "cell_type": "markdown",
   "metadata": {},
   "source": [
    "## Cost"
   ]
  },
  {
   "cell_type": "code",
   "execution_count": null,
   "metadata": {
    "scrolled": false
   },
   "outputs": [],
   "source": [
    "fig, ax = plt.subplots()\n",
    "ax.plot(J[:tfinal+1], '-')\n",
    "ax.set_xlabel(r'iteration')\n",
    "ax.set_ylabel(r'$J$')\n",
    "ax.set_title(r'Cost $J$')\n",
    "ax.set_ylim(0., np.max(J[:tfinal+1]))\n",
    "ax.set_xlim(0., tfinal)\n",
    "    \n",
    "fig, ax = plt.subplots()\n",
    "ax.semilogy(J[:tfinal+1], '-')\n",
    "ax.set_xlabel(r'iteration')\n",
    "ax.set_ylabel(r'$J$')\n",
    "ax.set_title(r'Cost $J$')\n",
    "ax.set_xlim(0., tfinal)\n"
   ]
  },
  {
   "cell_type": "markdown",
   "metadata": {},
   "source": [
    "## Weights (initial and final values)"
   ]
  },
  {
   "cell_type": "code",
   "execution_count": null,
   "metadata": {
    "scrolled": false
   },
   "outputs": [],
   "source": [
    "plt.figure()\n",
    "plt.title(r'Weights $W$')\n",
    "plt.xlabel(r'Initial Weight')\n",
    "plt.ylabel(r'Final Weight')\n",
    "\n",
    "line = [min(np.min(W_0), np.min(W_1)), max(np.max(W_0), np.max(W_1))]\n",
    "plt.plot(line, [0., 0.], 'k--', alpha=0.5)\n",
    "plt.plot([0., 0.], line, 'k--', alpha=0.5)\n",
    "\n",
    "plt.plot(W_0, W_1, 'ko')\n",
    "plt.plot(line, line, 'y-', alpha=0.5)\n"
   ]
  },
  {
   "cell_type": "markdown",
   "metadata": {},
   "source": [
    "## Functions $g^{(i)}$"
   ]
  },
  {
   "cell_type": "code",
   "execution_count": null,
   "metadata": {
    "scrolled": false
   },
   "outputs": [],
   "source": [
    "N = 100\n",
    "theta_1 = y[:, 0]\n",
    "theta_2 = y[:, 1]\n",
    "val = [g_0, g_1, g_t]\n",
    "col_names = ['initial', 'final', 'truth']\n",
    "row_names = ['g1', 'g2']\n",
    "\n",
    "fig, axs = plot_comp(theta_1, theta_2, val, col_names, row_names, cmap='Spectral', contour=False, lim_option='same', norm=False) \n",
    "for ax in axs.ravel().tolist():\n",
    "    ax.plot([0.0, 0.0], [0.0, 1.0], 'k-')\n",
    "    ax.plot([0.0, 1.0], [1.0, 1.0], 'k-')\n",
    "    ax.plot([1.0, 1.0], [1.0, 0.0], 'k-')\n",
    "    ax.plot([1.0, 0.0], [0.0, 0.0], 'k-')"
   ]
  },
  {
   "cell_type": "code",
   "execution_count": null,
   "metadata": {},
   "outputs": [],
   "source": []
  }
 ],
 "metadata": {
  "kernelspec": {
   "display_name": "Python 3",
   "language": "python",
   "name": "python3"
  },
  "language_info": {
   "codemirror_mode": {
    "name": "ipython",
    "version": 3
   },
   "file_extension": ".py",
   "mimetype": "text/x-python",
   "name": "python",
   "nbconvert_exporter": "python",
   "pygments_lexer": "ipython3",
   "version": "3.8.5"
  }
 },
 "nbformat": 4,
 "nbformat_minor": 2
}
