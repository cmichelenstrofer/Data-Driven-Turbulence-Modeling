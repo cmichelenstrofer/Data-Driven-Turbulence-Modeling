{
 "cells": [
  {
   "cell_type": "code",
   "execution_count": null,
   "metadata": {},
   "outputs": [],
   "source": [
    "# imports \n",
    "import os\n",
    "import sys \n",
    "\n",
    "%matplotlib inline\n",
    "import numpy as np\n",
    "import matplotlib.pyplot as plt\n",
    "from matplotlib import colors as mcolors\n",
    "import scipy.interpolate as interp\n",
    "\n",
    "sys.path.append('/l/cmich/DAFI')\n",
    "from dafi.random_field import foam_utilities as foam\n",
    "\n",
    "# constants\n",
    "C_mu = 0.09\n",
    "tinit = 0\n",
    "SYMTENSORDIM = 6\n",
    "TENSORSQRTDIM = 3\n",
    "TENSORDIM = 9\n",
    "DEVSYMTENSORDIM = 5\n",
    "DEVSYMTENSOR_INDEX = [0,1,2,4,5]"
   ]
  },
  {
   "cell_type": "markdown",
   "metadata": {},
   "source": [
    "# Case"
   ]
  },
  {
   "cell_type": "code",
   "execution_count": null,
   "metadata": {},
   "outputs": [],
   "source": [
    "tfinal = 100\n",
    "\n",
    "foam_dir = 'foam_primal'\n",
    "results_dir = 'results'\n",
    "data_dir = 'data'\n",
    "save_dir = 'figures'\n",
    "\n",
    "nscalar_invariants = 1\n",
    "nbasis_tensors = 1\n",
    "mesh_shape = [30, 100]\n",
    "\n",
    "cmap = 'Spectral' "
   ]
  },
  {
   "cell_type": "markdown",
   "metadata": {},
   "source": [
    "# plotting functions"
   ]
  },
  {
   "cell_type": "code",
   "execution_count": null,
   "metadata": {},
   "outputs": [],
   "source": [
    "def rs(x):\n",
    "    return x.reshape(mesh_shape)\n",
    "\n",
    "\n",
    "def get_lim(x):\n",
    "    return np.max(np.abs(x))"
   ]
  },
  {
   "cell_type": "markdown",
   "metadata": {},
   "source": [
    "# load data"
   ]
  },
  {
   "cell_type": "code",
   "execution_count": null,
   "metadata": {},
   "outputs": [],
   "source": [
    "# coordinates\n",
    "x = np.loadtxt(os.path.join(data_dir, 'x'))\n",
    "y = np.loadtxt(os.path.join(data_dir, 'y'))\n",
    "\n",
    "# cost\n",
    "J = []\n",
    "for i in range(tfinal+1):\n",
    "    iJ = np.loadtxt(os.path.join(results_dir, f'J.{i}'))\n",
    "    J.append(iJ.tolist())\n",
    "\n",
    "# initial\n",
    "g_0 = np.loadtxt(os.path.join(results_dir, f'g.{tinit}'))\n",
    "g_0 = np.expand_dims(g_0, -1)\n",
    "Ux_0 = np.loadtxt(os.path.join(results_dir, f'U.flow_0.{tinit}'))[:, 0]\n",
    "Uy_0 = np.loadtxt(os.path.join(results_dir, f'U.flow_0.{tinit}'))[:, 1]\n",
    "\n",
    "# final\n",
    "g_1 = np.loadtxt(os.path.join(results_dir, f'g.{tfinal}'))\n",
    "g_1 = np.expand_dims(g_1, -1)\n",
    "Ux_1 = np.loadtxt(os.path.join(results_dir, f'U.flow_0.{tfinal}'))[:,0]\n",
    "Uy_1 = np.loadtxt(os.path.join(results_dir, f'U.flow_0.{tfinal}'))[:,1]\n",
    "\n",
    "# truth\n",
    "Ux_t = np.loadtxt(os.path.join(data_dir, 'UxFullField')) \n",
    "Uy_t = np.loadtxt(os.path.join(data_dir, 'UyFullField')) \n",
    "\n",
    "print('Done')"
   ]
  },
  {
   "cell_type": "markdown",
   "metadata": {},
   "source": [
    "# Results"
   ]
  },
  {
   "cell_type": "markdown",
   "metadata": {},
   "source": [
    "### Cost"
   ]
  },
  {
   "cell_type": "code",
   "execution_count": null,
   "metadata": {
    "scrolled": false
   },
   "outputs": [],
   "source": [
    "fig, ax = plt.subplots()\n",
    "ax.plot(J[:tfinal+1], '-')\n",
    "ax.set_xlabel(r'iteration')\n",
    "ax.set_ylabel(r'$J$')\n",
    "ax.set_title(r'Cost $J$')\n",
    "ax.set_ylim(0., np.max(J[:tfinal+1]))\n",
    "ax.set_xlim(0., tfinal)\n",
    "    \n",
    "fig, ax = plt.subplots()\n",
    "ax.semilogy(J[:tfinal+1], '-')\n",
    "ax.set_xlabel(r'iteration')\n",
    "ax.set_ylabel(r'$J$')\n",
    "ax.set_title(r'Cost $J$')\n",
    "limlow = 10**np.floor(np.log10(np.min(J[:tfinal+1])))\n",
    "ax.set_ylim(limlow, np.max(J[:tfinal+1]))\n",
    "ax.set_xlim(0., tfinal);\n",
    "   "
   ]
  },
  {
   "cell_type": "markdown",
   "metadata": {},
   "source": [
    "### functions $g^{(i)}$"
   ]
  },
  {
   "cell_type": "code",
   "execution_count": null,
   "metadata": {
    "scrolled": false
   },
   "outputs": [],
   "source": [
    "for j in range(g_0.shape[1]):\n",
    "\n",
    "    fig, axs = plt.subplots(2,1, figsize=(10,10))\n",
    "    \n",
    "    cs = axs[0].pcolor(rs(x), rs(y), rs(g_0[:,j]), cmap=cmap, shading='auto', norm=None)\n",
    "    cbar = fig.colorbar(cs, ax=axs[0], shrink=0.7)\n",
    "\n",
    "    cs = axs[1].pcolor(rs(x), rs(y), rs(g_1[:,j]), cmap=cmap, shading='auto', norm=None)\n",
    "    cbar = fig.colorbar(cs, ax=axs[1], shrink=0.7)\n",
    "\n",
    "    for i in range(2):\n",
    "        plt.setp(axs[i].get_xticklabels(), visible=False)\n",
    "        plt.setp(axs[i].get_yticklabels(), visible=False)\n",
    "        axs[i].tick_params(axis='both', which='both', length=0)\n",
    "        axs[i].set_aspect('equal', 'box')\n",
    "    axs[0].set_title('g-functions')\n",
    "    axs[0].set_ylabel('initial')\n",
    "    axs[1].set_ylabel('final')\n",
    "    axs[0].set_title(f'g_{j+1}')\n"
   ]
  },
  {
   "cell_type": "markdown",
   "metadata": {},
   "source": [
    "### Velocity"
   ]
  },
  {
   "cell_type": "code",
   "execution_count": null,
   "metadata": {},
   "outputs": [],
   "source": [
    "fig, axs = plt.subplots(3,1, figsize=(10,15))\n",
    "\n",
    "divnorm = mcolors.TwoSlopeNorm(vcenter=0.0)\n",
    "cs = axs[0].pcolor(rs(x), rs(y), rs(Ux_0), cmap=cmap, shading='auto', norm=divnorm)\n",
    "cbar = fig.colorbar(cs, ax=axs[0], shrink=0.7)\n",
    "\n",
    "divnorm = mcolors.TwoSlopeNorm(vcenter=0.0)\n",
    "cs = axs[1].pcolor(rs(x), rs(y), rs(Ux_1), cmap=cmap, shading='auto', norm=divnorm)\n",
    "cbar = fig.colorbar(cs, ax=axs[1], shrink=0.7)\n",
    "\n",
    "divnorm = mcolors.TwoSlopeNorm(vcenter=0.0)\n",
    "cs = axs[2].pcolor(rs(x), rs(y), rs(Ux_t), cmap=cmap, shading='auto', norm=divnorm)\n",
    "cbar = fig.colorbar(cs, ax=axs[2], shrink=0.7)\n",
    "\n",
    "for i in range(3):\n",
    "    plt.setp(axs[i].get_xticklabels(), visible=False)\n",
    "    plt.setp(axs[i].get_yticklabels(), visible=False)\n",
    "    axs[i].tick_params(axis='both', which='both', length=0)\n",
    "    axs[i].set_aspect('equal', 'box')\n",
    "axs[0].set_title('Ux-velocity')\n",
    "axs[0].set_ylabel('initial')\n",
    "axs[1].set_ylabel('final')\n",
    "axs[2].set_ylabel('truth')"
   ]
  },
  {
   "cell_type": "code",
   "execution_count": null,
   "metadata": {
    "scrolled": false
   },
   "outputs": [],
   "source": [
    "fig, axs = plt.subplots(3,1, figsize=(10,15))\n",
    "\n",
    "divnorm = mcolors.TwoSlopeNorm(vcenter=0.0)\n",
    "cs = axs[0].pcolor(rs(x), rs(y), rs(Uy_0), cmap=cmap, shading='auto', norm=divnorm)\n",
    "cbar = fig.colorbar(cs, ax=axs[0], shrink=0.7)\n",
    "\n",
    "divnorm = mcolors.TwoSlopeNorm(vcenter=0.0)\n",
    "cs = axs[1].pcolor(rs(x), rs(y), rs(Uy_1), cmap=cmap, shading='auto', norm=divnorm)\n",
    "cbar = fig.colorbar(cs, ax=axs[1], shrink=0.7)\n",
    "\n",
    "divnorm = mcolors.TwoSlopeNorm(vcenter=0.0)\n",
    "cs = axs[2].pcolor(rs(x), rs(y), rs(Uy_t), cmap=cmap, shading='auto', norm=divnorm)\n",
    "cbar = fig.colorbar(cs, ax=axs[2], shrink=0.7)\n",
    "\n",
    "for i in range(3):\n",
    "    plt.setp(axs[i].get_xticklabels(), visible=False)\n",
    "    plt.setp(axs[i].get_yticklabels(), visible=False)\n",
    "    axs[i].tick_params(axis='both', which='both', length=0)\n",
    "    axs[i].set_aspect('equal', 'box')\n",
    "axs[0].set_title('Uy-velocity')\n",
    "axs[0].set_ylabel('initial')\n",
    "axs[1].set_ylabel('final')\n",
    "axs[2].set_ylabel('truth')"
   ]
  },
  {
   "cell_type": "code",
   "execution_count": null,
   "metadata": {},
   "outputs": [],
   "source": []
  }
 ],
 "metadata": {
  "kernelspec": {
   "display_name": "Python 3",
   "language": "python",
   "name": "python3"
  },
  "language_info": {
   "codemirror_mode": {
    "name": "ipython",
    "version": 3
   },
   "file_extension": ".py",
   "mimetype": "text/x-python",
   "name": "python",
   "nbconvert_exporter": "python",
   "pygments_lexer": "ipython3",
   "version": "3.8.5"
  }
 },
 "nbformat": 4,
 "nbformat_minor": 2
}
