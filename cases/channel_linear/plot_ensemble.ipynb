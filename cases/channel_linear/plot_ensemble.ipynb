{
 "cells": [
  {
   "cell_type": "code",
   "execution_count": null,
   "metadata": {},
   "outputs": [],
   "source": [
    "import os\n",
    "\n",
    "%matplotlib notebook \n",
    "import numpy as np\n",
    "import matplotlib.pyplot as plt\n",
    "import scipy.interpolate as interp\n",
    "\n",
    "C_mu = 0.09\n",
    "SYMTENSORDIM = 6"
   ]
  },
  {
   "cell_type": "markdown",
   "metadata": {},
   "source": [
    "# Case"
   ]
  },
  {
   "cell_type": "code",
   "execution_count": null,
   "metadata": {},
   "outputs": [],
   "source": [
    "foam_dir = 'foam_ensemble'\n",
    "results_dir = 'results_ensemble_precondition'\n",
    "# results_dir = 'results_ensemble'\n",
    "sample_dir = os.path.join(results_dir, 'samples')\n",
    "data_dir = 'data'\n",
    "\n",
    "tinit = 0\n",
    "tint = 0\n",
    "tfinal = 200\n",
    "\n",
    "flow = 0\n",
    "regularization = False\n",
    "\n",
    "plot_full_channel = False\n",
    "plot_samples = True\n",
    "plot_int = False\n",
    "savefigs = False\n",
    "\n",
    "H = 0.5"
   ]
  },
  {
   "cell_type": "code",
   "execution_count": null,
   "metadata": {
    "tags": []
   },
   "outputs": [],
   "source": [
    "# y\n",
    "y = np.loadtxt(os.path.join(data_dir, 'y')) / H\n",
    "\n",
    "# cost & weights\n",
    "J = []\n",
    "W = []\n",
    "if regularization:\n",
    "    J0 = []\n",
    "for i in range(tfinal+1):\n",
    "    iJ = np.loadtxt(os.path.join(results_dir, f'J.{i}'))\n",
    "    J.append(iJ.tolist())\n",
    "    iW = np.loadtxt(os.path.join(results_dir, f'w.{i}'))\n",
    "    W.append(iW)\n",
    "    if regularization:\n",
    "        iJ0 = np.loadtxt(os.path.join(results_dir, f'J_org.{i}'))\n",
    "        J0.append(iJ0.tolist())\n",
    "W = np.array(W)\n",
    "nweights = W.shape[1]\n",
    "\n",
    "# truth \n",
    "g_t = np.zeros([len(y)])\n",
    "g_t[:] = -C_mu * np.ones(y.shape) \n",
    "U_t = np.loadtxt(os.path.join(data_dir, 'UxFullField'))\n",
    "\n",
    "# initial\n",
    "g_0 = np.loadtxt(os.path.join(results_dir, f'g.{tinit}')) \n",
    "U_0 = np.loadtxt(os.path.join(results_dir, f'U.flow_{flow}.{tinit}'))\n",
    "W_0 = np.loadtxt(os.path.join(results_dir, f'w.{tinit}'))\n",
    "g_0_samps =  np.loadtxt(os.path.join(sample_dir, f'flow_0.samps_g_0_iter_{tinit}'))\n",
    "H_0_samps = np.loadtxt(os.path.join(sample_dir, f'flow_0.samps_H_measurement_0_iter_{tinit}'))\n",
    "\n",
    "# intermediate\n",
    "if plot_int:\n",
    "    g_i = np.loadtxt(os.path.join(results_dir, f'g.{tint}')) \n",
    "    U_i = np.loadtxt(os.path.join(results_dir, f'U.flow_{flow}.{tint}'))\n",
    "    W_i = np.loadtxt(os.path.join(results_dir, f'w.{tint}'))\n",
    "    g_i_samps =  np.loadtxt(os.path.join(sample_dir, f'flow_0.samps_g_0_iter_{tint}'))\n",
    "    H_i_samps = np.loadtxt(os.path.join(sample_dir, f'flow_0.samps_H_measurement_0_iter_{tint}'))\n",
    "    \n",
    "    \n",
    "# final\n",
    "g_1 = np.loadtxt(os.path.join(results_dir, f'g.{tfinal}')) \n",
    "U_1 = np.loadtxt(os.path.join(results_dir, f'U.flow_{flow}.{tfinal}'))\n",
    "W_1 = np.loadtxt(os.path.join(results_dir, f'w.{tfinal}'))\n",
    "g_1_samps =  np.loadtxt(os.path.join(sample_dir, f'flow_0.samps_g_0_iter_{tfinal}'))\n",
    "H_1_samps = np.loadtxt(os.path.join(sample_dir, f'flow_0.samps_H_measurement_0_iter_{tfinal}'))\n",
    "\n",
    "nsamples = g_0_samps.shape[1]\n",
    "print('Done')"
   ]
  },
  {
   "cell_type": "markdown",
   "metadata": {},
   "source": [
    "# Results"
   ]
  },
  {
   "cell_type": "markdown",
   "metadata": {},
   "source": [
    "### Cost"
   ]
  },
  {
   "cell_type": "code",
   "execution_count": null,
   "metadata": {
    "scrolled": false
   },
   "outputs": [],
   "source": [
    "fig, ax = plt.subplots()\n",
    "ax.plot(J[:tfinal+1], '-')\n",
    "ax.set_xlabel(r'iteration')\n",
    "ax.set_ylabel(r'$J$')\n",
    "ax.set_title(r'Cost $J$')\n",
    "ax.set_ylim(0., np.max(J[:tfinal+1]))\n",
    "ax.set_xlim(0., tfinal)\n",
    "if savefigs:\n",
    "    plt.savefig('results_cost.pdf')\n",
    "    \n",
    "fig, ax = plt.subplots()\n",
    "ax.semilogy(J[:tfinal+1], '-')\n",
    "ax.set_xlabel(r'iteration')\n",
    "ax.set_ylabel(r'$J$')\n",
    "ax.set_title(r'Cost $J$')\n",
    "ax.set_xlim(0., tfinal)\n",
    "if savefigs:\n",
    "    plt.savefig('results_cost_log.pdf')\n",
    " \n",
    "if regularization:\n",
    "    fig, ax = plt.subplots()\n",
    "    ax.plot(J0[:tfinal+1], '-')\n",
    "    ax.set_xlabel(r'iteration')\n",
    "    ax.set_ylabel(r'$J$')\n",
    "    ax.set_title(r'Cost NoReg')\n",
    "    ax.set_ylim(0., np.max(J0[:tfinal+1]))\n",
    "    ax.set_xlim(0., tfinal)\n",
    "    if savefigs:\n",
    "        plt.savefig('results_cost_noreg.pdf')\n",
    "        \n",
    "    fig, ax = plt.subplots()\n",
    "    ax.semilogy(J0[:tfinal+1], '-')\n",
    "    ax.set_xlabel(r'iteration')\n",
    "    ax.set_ylabel(r'$J$')\n",
    "    ax.set_title(r'Cost NoReg')\n",
    "    ax.set_xlim(0., tfinal)\n",
    "    if savefigs:\n",
    "        plt.savefig('results_cost_log_noreg.pdf')"
   ]
  },
  {
   "cell_type": "markdown",
   "metadata": {},
   "source": [
    "### Weights (initial and final values)"
   ]
  },
  {
   "cell_type": "code",
   "execution_count": null,
   "metadata": {
    "scrolled": false
   },
   "outputs": [],
   "source": [
    "plt.figure()\n",
    "plt.title(r'Weights $W$')\n",
    "plt.xlabel(r'Initial Weight')\n",
    "plt.ylabel(r'Final Weight')\n",
    "\n",
    "line = [min(np.min(W_0), np.min(W_1)), max(np.max(W_0), np.max(W_1))]\n",
    "plt.plot(line, [0., 0.], 'k--', alpha=0.5)\n",
    "plt.plot([0., 0.], line, 'k--', alpha=0.5)\n",
    "\n",
    "plt.plot(W_0, W_1, 'ko')\n",
    "plt.plot(line,line, 'y-', alpha=0.5)\n",
    "\n",
    "if savefigs:\n",
    "    plt.savefig('results_weights.pdf')"
   ]
  },
  {
   "cell_type": "markdown",
   "metadata": {},
   "source": [
    "### functions $g^{(i)}$"
   ]
  },
  {
   "cell_type": "code",
   "execution_count": null,
   "metadata": {},
   "outputs": [],
   "source": [
    "def plotg(ax, i, gt, g0, g1, gi=None):\n",
    "    if plot_samples:\n",
    "        plt.plot(np.zeros(len(y)), y, 'k--')\n",
    "        for isamp in range(nsamples):\n",
    "            if plot_int:\n",
    "                plt.plot(g_i_samps[:, isamp], y, 'c-', alpha=0.25, linewidth=0.5)\n",
    "            plt.plot(g_0_samps[:, isamp], y, 'r-', alpha=0.25, linewidth=0.5)\n",
    "            plt.plot(g_1_samps[:, isamp], y, 'g-', alpha=0.25, linewidth=0.5)\n",
    "    ax.plot(g0, y, 'r-', label='Initial')\n",
    "    if plot_int:\n",
    "        ax.plot(gi, y, 'c-', label='Intermediate') \n",
    "    ax.plot(g1, y, 'g-o', fillstyle='none', label='Final')\n",
    "    ax.plot(gt, y, 'k-', label='Truth')\n",
    "    ax.set_xlabel(r'$g_{' f'{i}' r'}$')\n",
    "    ax.set_ylabel(r'$x_2$')\n",
    "    ax.set_ylim([0., 1.0])\n",
    "    return ax\n",
    "\n",
    "\n",
    "def plotg_double(ax, i, gt, g0, g1, gi=None):\n",
    "    yy = np.concatenate([y,y+0.5])\n",
    "    plt.plot(np.zeros(len(yy)), yy, 'k--')\n",
    "    if plot_samples:\n",
    "        for isamp in range(nsamples):\n",
    "            g0s = g_0_samps[:, isamp]\n",
    "            gg0 = np.concatenate([g0s, g0s[::-1]])\n",
    "            g1s = g_1_samps[:, isamp]\n",
    "            gg1 = np.concatenate([g1s, g1s[::-1]])\n",
    "            if plot_int:\n",
    "                gis = g_i_samps[:, isamp]\n",
    "                ggi = np.concatenate([gis, gis[::-1]])\n",
    "                plt.plot(ggi, yy, 'c-', alpha=0.25, linewidth=0.5)\n",
    "            plt.plot(gg0, yy, 'r-', alpha=0.25, linewidth=0.5)\n",
    "            plt.plot(gg1, yy, 'g-', alpha=0.25, linewidth=0.5)\n",
    "    ggt = np.concatenate([gt,gt[::-1]])\n",
    "    gg0 = np.concatenate([g0,g0[::-1]])\n",
    "    gg1 = np.concatenate([g1,g1[::-1]])\n",
    "    ax.plot(gg0, yy, 'r-', label='Initial')\n",
    "    if plot_int:\n",
    "        ggi = np.concatenate([gi,gi[::-1]])\n",
    "        ax.plot(ggi, yy, 'c-', label='Intermediate') \n",
    "    ax.plot(gg1, yy, 'g-o', fillstyle='none', label='Final')\n",
    "    ax.plot(ggt, yy, 'k-', label='Truth')\n",
    "    ax.set_xlabel(r'$g_{' f'{i}' r'}$')\n",
    "    ax.set_ylabel(r'$x_2$')\n",
    "    ax.set_ylim([0., 2.])\n",
    "    return ax\n",
    "\n",
    "if plot_full_channel:\n",
    "    plotfunc = plotg_double \n",
    "else:\n",
    "    plotfunc = plotg\n",
    "\n",
    "fig, ax = plt.subplots()\n",
    "if plot_int:\n",
    "    ax = plotfunc(ax, 1, g_t[:], g_0[:], g_1[:], g_i[:])\n",
    "else:\n",
    "    ax = plotfunc(ax, 1, g_t[:], g_0[:], g_1[:])\n",
    "plt.legend()\n",
    "    \n",
    "if savefigs:\n",
    "    fig.savefig('results_g1.pdf')"
   ]
  },
  {
   "cell_type": "markdown",
   "metadata": {},
   "source": [
    "### Velocity"
   ]
  },
  {
   "cell_type": "code",
   "execution_count": null,
   "metadata": {
    "tags": []
   },
   "outputs": [],
   "source": [
    "yy = y.copy()\n",
    "U0_0 = U_0[:,0]\n",
    "if plot_int:\n",
    "    U0_i = U_i[:,0]\n",
    "U0_1 = U_1[:,0]\n",
    "U0_t = U_t\n",
    "lim = 1.0\n",
    "\n",
    "if plot_full_channel:\n",
    "    yy = np.concatenate([yy, yy+1.0])\n",
    "    U0_0 = np.concatenate([U0_0, U0_0[::-1]])\n",
    "    if plot_int:\n",
    "        U0_i = np.concatenate([U0_i, U0_i[::-1]])\n",
    "    U0_1 = np.concatenate([U0_1, U0_1[::-1]])\n",
    "    U0_t = np.concatenate([U0_t, U0_t[::-1]])\n",
    "    lim *= 2.0\n",
    "\n",
    "plt.figure()\n",
    "for isamp in range(nsamples):\n",
    "    if plot_int:\n",
    "        Hsi = H_i_samps[:, isamp]\n",
    "        if plot_full_channel:\n",
    "            Hsi = np.concatenate([Hsi, Hsi[::-1]])\n",
    "        plt.plot(Hsi, yy, 'c-', alpha=0.25, linewidth=0.5)\n",
    "    Hs0 = H_0_samps[:, isamp]\n",
    "    if plot_full_channel:\n",
    "        Hs0 = np.concatenate([Hs0, Hs0[::-1]])\n",
    "    Hs1 = H_1_samps[:, isamp]\n",
    "    if plot_full_channel:\n",
    "        Hs1 = np.concatenate([Hs1, Hs1[::-1]])\n",
    "    plt.plot(Hs0, yy, 'r-', alpha=0.25, linewidth=0.5)\n",
    "    plt.plot(Hs1, yy, 'g-', alpha=0.25, linewidth=0.5)\n",
    "plt.plot(U0_t, yy, 'k-', label='truth')\n",
    "plt.plot(U0_0, yy, 'ro-', label='initial')\n",
    "if plot_int:\n",
    "    plt.plot(U0_i, yy, 'c-', label='intermediate')\n",
    "plt.plot(U0_1, yy, 'go', fillstyle='none', label='final')\n",
    "plt.xlabel(r'Velocity $U$')\n",
    "plt.ylabel('$x_2$')\n",
    "plt.legend()\n",
    "plt.ylim([0.0, lim])\n",
    "if savefigs:\n",
    "    plt.savefig('results_U.pdf')\n",
    "    \n",
    "plt.xlim([0.0, 1.75])"
   ]
  },
  {
   "cell_type": "code",
   "execution_count": null,
   "metadata": {},
   "outputs": [],
   "source": []
  }
 ],
 "metadata": {
  "kernelspec": {
   "display_name": "Python 3",
   "language": "python",
   "name": "python3"
  },
  "language_info": {
   "codemirror_mode": {
    "name": "ipython",
    "version": 3
   },
   "file_extension": ".py",
   "mimetype": "text/x-python",
   "name": "python",
   "nbconvert_exporter": "python",
   "pygments_lexer": "ipython3",
   "version": "3.8.5"
  }
 },
 "nbformat": 4,
 "nbformat_minor": 2
}
