{
 "cells": [
  {
   "cell_type": "markdown",
   "metadata": {},
   "source": [
    "# Case"
   ]
  },
  {
   "cell_type": "code",
   "execution_count": null,
   "metadata": {},
   "outputs": [],
   "source": [
    "import os\n",
    "\n",
    "%matplotlib notebook \n",
    "import numpy as np\n",
    "import matplotlib.pyplot as plt\n",
    "import scipy.interpolate as interp\n",
    "\n",
    "results_dir = 'results'\n",
    "tinit  = 0\n",
    "tint   = 0\n",
    "tfinal = 1000\n",
    "plot_int = False"
   ]
  },
  {
   "cell_type": "markdown",
   "metadata": {},
   "source": [
    "## Load Data"
   ]
  },
  {
   "cell_type": "code",
   "execution_count": null,
   "metadata": {
    "tags": []
   },
   "outputs": [],
   "source": [
    "# cost & weights\n",
    "J = []\n",
    "\n",
    "for i in range(tfinal+1):\n",
    "    iJ = np.loadtxt(os.path.join(results_dir, f'J.{i}'))\n",
    "    J.append(iJ.tolist())\n",
    "\n",
    "# initial\n",
    "g_0 = np.squeeze(np.loadtxt(os.path.join(results_dir, f'g.{tinit}')) )\n",
    "if g_0.ndim==1:\n",
    "    g_0 = np.expand_dims(g_0, 1)\n",
    "W_0 = np.loadtxt(os.path.join(results_dir, f'w.{tinit}'))\n",
    "    \n",
    "# intermediate\n",
    "if plot_int:\n",
    "    g_i = np.squeeze(np.loadtxt(os.path.join(results_dir, f'g.{tint}')) )\n",
    "    if g_i.ndim==1:\n",
    "        g_i = np.expand_dims(g_i, 1)\n",
    "    W_i = np.loadtxt(os.path.join(results_dir, f'w.{tint}'))\n",
    "    \n",
    "# final\n",
    "g_1 = np.squeeze(np.loadtxt(os.path.join(results_dir, f'g.{tfinal}')) )\n",
    "if g_1.ndim==1:\n",
    "    g_1 = np.expand_dims(g_1, 1)\n",
    "W_1 = np.loadtxt(os.path.join(results_dir, f'w.{tfinal}'))\n",
    "nweights = W_1.shape[0]\n",
    "\n",
    "# truth\n",
    "g_t = np.loadtxt(os.path.join(results_dir, 'g_truth'))\n",
    "if g_t.ndim==1:\n",
    "    g_t = np.expand_dims(g_t, 1)\n",
    "\n",
    "# y\n",
    "y = np.loadtxt(os.path.join(results_dir, 'theta_input'))\n",
    "\n",
    "print('Done')"
   ]
  },
  {
   "cell_type": "markdown",
   "metadata": {},
   "source": [
    "# Results"
   ]
  },
  {
   "cell_type": "markdown",
   "metadata": {},
   "source": [
    "### Cost"
   ]
  },
  {
   "cell_type": "code",
   "execution_count": null,
   "metadata": {
    "scrolled": false
   },
   "outputs": [],
   "source": [
    "fig, ax = plt.subplots()\n",
    "ax.plot(J[:tfinal+1], '-')\n",
    "ax.set_xlabel(r'iteration')\n",
    "ax.set_ylabel(r'$J$')\n",
    "ax.set_title(r'Cost $J$')\n",
    "ax.set_ylim(0., np.max(J[:tfinal+1]))\n",
    "ax.set_xlim(0., tfinal)\n",
    "    \n",
    "fig, ax = plt.subplots()\n",
    "ax.semilogy(J[:tfinal+1], '-')\n",
    "ax.set_xlabel(r'iteration')\n",
    "ax.set_ylabel(r'$J$')\n",
    "ax.set_title(r'Cost $J$')\n",
    "ax.set_xlim(0., tfinal)"
   ]
  },
  {
   "cell_type": "markdown",
   "metadata": {},
   "source": [
    "### functions $g^{(i)}$"
   ]
  },
  {
   "cell_type": "code",
   "execution_count": null,
   "metadata": {
    "scrolled": false
   },
   "outputs": [],
   "source": [
    "\n",
    "def plotg(ax, i, gt, g0, g1, gi=None):\n",
    "    lim = [min(0.0, np.min(gt)*1.5), max(0.0, np.max(gt)*1.5)]\n",
    "    ax.fill_between(lim, [0.0, 0.0], [1.0, 1.0], color='tab:blue', alpha=0.5)\n",
    "    ax.plot(gt, y, 'k-', label='Truth')\n",
    "    ax.plot(g0, y, 'r-', label='Initial')\n",
    "    if plot_int:\n",
    "        ax.plot(gi, y, 'c-', label='Intermediate') \n",
    "    ax.plot(g1, y, 'g-o', fillstyle='none', label='Final', alpha=0.5)\n",
    "    ax.set_xlabel(r'$g_{' f'{i}' r'}$')\n",
    "    ax.set_ylabel(r'$x_2$')\n",
    "    ax.set_xlim(lim)\n",
    "    return ax\n",
    "\n",
    "fig, ax = plt.subplots()\n",
    "if plot_int:\n",
    "    ax = plotg(ax, 1, g_t[:, 0], g_0[:, 0], g_1[:, 0], g_i[:, 0])\n",
    "else:\n",
    "    ax = plotg(ax, 1, g_t[:, 0], g_0[:, 0], g_1[:, 0])\n",
    "plt.legend()"
   ]
  },
  {
   "cell_type": "markdown",
   "metadata": {},
   "source": [
    "### Weights (initial and final values)"
   ]
  },
  {
   "cell_type": "code",
   "execution_count": null,
   "metadata": {
    "scrolled": false
   },
   "outputs": [],
   "source": [
    "plt.figure()\n",
    "plt.title(r'Weights $W$')\n",
    "plt.xlabel(r'Initial Weight')\n",
    "plt.ylabel(r'Final Weight')\n",
    "\n",
    "line = [min(np.min(W_0), np.min(W_1)), max(np.max(W_0), np.max(W_1))]\n",
    "plt.plot(line, [0., 0.], 'k--', alpha=0.5)\n",
    "plt.plot([0., 0.], line, 'k--', alpha=0.5)\n",
    "\n",
    "plt.plot(W_0, W_1, 'ko')\n",
    "plt.plot(line, line, 'y-', alpha=0.5)"
   ]
  },
  {
   "cell_type": "code",
   "execution_count": null,
   "metadata": {},
   "outputs": [],
   "source": []
  }
 ],
 "metadata": {
  "kernelspec": {
   "display_name": "Python 3",
   "language": "python",
   "name": "python3"
  },
  "language_info": {
   "codemirror_mode": {
    "name": "ipython",
    "version": 3
   },
   "file_extension": ".py",
   "mimetype": "text/x-python",
   "name": "python",
   "nbconvert_exporter": "python",
   "pygments_lexer": "ipython3",
   "version": "3.8.5"
  }
 },
 "nbformat": 4,
 "nbformat_minor": 2
}
