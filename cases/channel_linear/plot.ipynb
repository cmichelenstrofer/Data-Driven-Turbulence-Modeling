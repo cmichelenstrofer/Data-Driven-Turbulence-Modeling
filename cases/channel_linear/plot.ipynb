{
 "cells": [
  {
   "cell_type": "code",
   "execution_count": 1,
   "metadata": {},
   "outputs": [],
   "source": [
    "import os\n",
    "\n",
    "# %matplotlib notebook \n",
    "%matplotlib inline \n",
    "import numpy as np\n",
    "import matplotlib.pyplot as plt\n",
    "\n",
    "C_mu = 0.09\n",
    "SYMTENSORDIM = 6\n",
    "TENSORSQRTDIM = 3\n",
    "TENSORDIM = 9\n",
    "DEVSYMTENSORDIM = 5\n",
    "DEVSYMTENSOR_INDEX = [0,1,2,4,5]"
   ]
  },
  {
   "cell_type": "markdown",
   "metadata": {},
   "source": [
    "# Case"
   ]
  },
  {
   "cell_type": "code",
   "execution_count": 2,
   "metadata": {},
   "outputs": [],
   "source": [
    "foam_dir = 'foam_primal'\n",
    "results_dir = 'results'\n",
    "data_dir = 'data'\n",
    "save_dir = 'figures' # create this directory before running this notebook\n",
    "cpp_dir = '/l/cmich/DDTM/cases/channel_linear/cpp/results'\n",
    "\n",
    "tinit = 0\n",
    "tint = 1\n",
    "tfinal = 200\n",
    "\n",
    "flow = 0\n",
    "regularization = False\n",
    "\n",
    "plot_full_channel = False\n",
    "plot_int = False\n",
    "plot_cpp = True\n",
    "savefigs = True\n",
    "fig_ext = 'pgf'\n",
    "\n",
    "points = [(1.07, 0.25),] # should match data/UxPoint_i files\n",
    "\n",
    "H = 0.5"
   ]
  },
  {
   "cell_type": "code",
   "execution_count": 3,
   "metadata": {},
   "outputs": [],
   "source": [
    "def get_tensor_basis(gradU, time_scale):\n",
    "    ncells = len(time_scale)\n",
    "    assert len(gradU)==ncells\n",
    "    T = np.zeros([ncells, DEVSYMTENSORDIM])\n",
    "    for i, (igradU, it) in enumerate(zip(gradU, time_scale)):\n",
    "        # velocity gradient: symmetric and anti-symmetric components\n",
    "        igradU = igradU.reshape([TENSORSQRTDIM, TENSORSQRTDIM])\n",
    "        S = it * 0.5*(igradU + igradU.T)\n",
    "\n",
    "        T1 = S.reshape([TENSORDIM])\n",
    "        symmetric = True\n",
    "        symm_pairs = [(1, 3), (2, 6), (5, 7)]\n",
    "        for (si, sj) in symm_pairs:\n",
    "            symmetric = symmetric and np.isclose(T1[si], T1[sj])\n",
    "        deviatoric = np.isclose(-(T1[0]+T1[4]), T1[8])\n",
    "        assert (symmetric and deviatoric)\n",
    "        T[i, :] = T1[DEVSYMTENSOR_INDEX]\n",
    "    return T\n",
    "\n",
    "def get_b(g, gradU, time_scale):\n",
    "    T = get_tensor_basis(gradU, time_scale)\n",
    "    return np.expand_dims(g,-1) * T\n",
    "\n",
    "def b2a(b, k):\n",
    "    return 2 * np.expand_dims(k, -1) * b"
   ]
  },
  {
   "cell_type": "code",
   "execution_count": 4,
   "metadata": {},
   "outputs": [],
   "source": [
    "def get_scalar_invariants(gradU, time_scale):\n",
    "    ncells = len(time_scale)\n",
    "    assert len(gradU)==ncells\n",
    "    theta = np.zeros([ncells, 1])\n",
    "    for i, (igradU, it) in enumerate(zip(gradU, time_scale)):\n",
    "        igradU = igradU.reshape([TENSORSQRTDIM, TENSORSQRTDIM])\n",
    "        S = it * 0.5*(igradU + igradU.T)\n",
    "        theta[i, 0] = np.trace(S@S)\n",
    "    return theta"
   ]
  },
  {
   "cell_type": "code",
   "execution_count": 5,
   "metadata": {
    "tags": []
   },
   "outputs": [],
   "source": [
    "# y\n",
    "y = np.loadtxt(os.path.join(data_dir, 'y')) / H\n",
    "ncells = len(y)\n",
    "y_org = np.copy(y)\n",
    "if plot_full_channel:\n",
    "    y = np.concatenate([y, y+0.5/H])\n",
    "\n",
    "# cost & weights\n",
    "J = []\n",
    "W = []\n",
    "if regularization:\n",
    "    J0 = []\n",
    "for i in range(tfinal+1):\n",
    "    iJ = np.loadtxt(os.path.join(results_dir, f'J.{i}'))\n",
    "    J.append(iJ.tolist())\n",
    "    iW = np.loadtxt(os.path.join(results_dir, f'w.{i}'))\n",
    "    W.append(iW)\n",
    "    if regularization:\n",
    "        iJ0 = np.loadtxt(os.path.join(results_dir, f'J_org.{i}'))\n",
    "        J0.append(iJ0.tolist())\n",
    "W = np.array(W)\n",
    "nweights = W.shape[1]\n",
    "\n",
    "# truth \n",
    "g_t = np.zeros([len(y_org)])\n",
    "g_t[:] = -C_mu * np.ones(ncells) \n",
    "U_t = np.loadtxt(os.path.join(data_dir, 'UxFullField'))\n",
    "T_t = np.load(os.path.join(data_dir, 'basis_tensors.npy'))[:, :, 0]\n",
    "tke_t = np.load(os.path.join(data_dir, 'tke.npy'))\n",
    "b_t = np.expand_dims(g_t,-1) * T_t\n",
    "theta_t = np.load(os.path.join(data_dir, 'scalar_invariants.npy'))[:, 0]\n",
    "a_t = b2a(b_t, tke_t)\n",
    "g_t_org = np.copy(g_t)\n",
    "theta_t_org = np.copy(theta_t)\n",
    "if plot_full_channel:\n",
    "    theta_t = np.concatenate([theta_t, theta_t[::-1]])\n",
    "    g_t = np.concatenate([g_t, g_t[::-1]])\n",
    "    U_t = np.concatenate([U_t, U_t[::-1]])\n",
    "    b_t = np.concatenate([b_t, b_t[::-1]])\n",
    "    a_t = np.concatenate([a_t, a_t[::-1]])\n",
    "\n",
    "# C++ \n",
    "if plot_cpp:\n",
    "    g_c = np.loadtxt(os.path.join(cpp_dir, 'g1'))\n",
    "    U_c = np.loadtxt(os.path.join(cpp_dir, 'U'))[:,0]\n",
    "    T_c = np.load(os.path.join(cpp_dir, 'basis_tensors.npy'))[:, :, 0]\n",
    "    tke_c = np.load(os.path.join(cpp_dir, 'tke.npy'))\n",
    "    b_c = np.expand_dims(g_c,-1) * T_c\n",
    "    a_c = b2a(b_c, tke_c)\n",
    "    theta_c = np.load(os.path.join(cpp_dir, 'scalar_invariants.npy'))[:, 0]\n",
    "    g_c_org = np.copy(g_c)\n",
    "    theta_c_org = np.copy(theta_c)\n",
    "    if plot_full_channel:\n",
    "        theta_c = np.concatenate([theta_c, theta_c[::-1]])\n",
    "        g_c = np.concatenate([g_c, g_c[::-1]])\n",
    "        U_c = np.concatenate([U_c, U_c[::-1]])\n",
    "        b_c = np.concatenate([b_c, b_c[::-1]])\n",
    "        a_c = np.concatenate([a_c, a_c[::-1]])\n",
    "\n",
    "# initial\n",
    "g_0 = np.loadtxt(os.path.join(results_dir, f'g.{tinit}')) \n",
    "U_0 = np.loadtxt(os.path.join(results_dir, f'U.flow_{flow}.{tinit}'))[:, 0]\n",
    "gradU_0 = np.loadtxt(os.path.join(results_dir, f'gradU.flow_{flow}.{tinit}'))\n",
    "time_scale_0 = np.loadtxt(os.path.join(results_dir, f'timeScale.flow_{flow}.{tinit}'))\n",
    "tke_0 = np.loadtxt(os.path.join(results_dir, f'tke.flow_{flow}.{tinit}'))\n",
    "b_0 = get_b(g_0, gradU_0, time_scale_0)\n",
    "a_0 = b2a(b_0, tke_0)\n",
    "W_0 = np.loadtxt(os.path.join(results_dir, f'w.{tinit}'))\n",
    "theta_0 = get_scalar_invariants(gradU_0, time_scale_0)\n",
    "g_0_org = np.copy(g_0)\n",
    "theta_0_org = np.copy(theta_0)\n",
    "if plot_full_channel:\n",
    "    theta_0 = np.concatenate([theta_0, theta_0[::-1]])\n",
    "    g_0 = np.concatenate([g_0, g_0[::-1]])\n",
    "    U_0 = np.concatenate([U_0, U_0[::-1]])\n",
    "    b_0 = np.concatenate([b_0, b_0[::-1]])\n",
    "    a_0 = np.concatenate([a_0, a_0[::-1]])\n",
    "\n",
    "# intermediate\n",
    "if plot_int:\n",
    "    g_i = np.loadtxt(os.path.join(results_dir, f'g.{tint}')) \n",
    "    U_i = np.loadtxt(os.path.join(results_dir, f'U.flow_{flow}.{tint}'))[:, 0]\n",
    "    gradU_i = np.loadtxt(os.path.join(results_dir, f'gradU.flow_{flow}.{tint}'))\n",
    "    time_scale_i = np.loadtxt(os.path.join(results_dir, f'timeScale.flow_{flow}.{tint}'))\n",
    "    tke_i = np.loadtxt(os.path.join(results_dir, f'tke.flow_{flow}.{tint}'))\n",
    "    b_i = get_b(g_i, gradU_i, time_scale_i)\n",
    "    a_i = b2a(b_i, tke_i)\n",
    "    W_i = np.loadtxt(os.path.join(results_dir, f'w.{tint}'))\n",
    "    theta_i = get_scalar_invariants(gradU_i, time_scale_i)\n",
    "    g_i_org = np.copy(g_i)\n",
    "    theta_i_org = np.copy(theta_i)\n",
    "    if plot_full_channel:\n",
    "        theta_i = np.concatenate([theta_i, theta_i[::-1]])\n",
    "        g_i = np.concatenate([g_i, g_i[::-1]])\n",
    "        U_i = np.concatenate([U_i, U_i[::-1]])\n",
    "        b_i = np.concatenate([b_i, b_i[::-1]])\n",
    "        a_i = np.concatenate([a_i, a_i[::-1]])\n",
    "\n",
    "# final\n",
    "g_1 = np.loadtxt(os.path.join(results_dir, f'g.{tfinal}')) \n",
    "U_1 = np.loadtxt(os.path.join(results_dir, f'U.flow_{flow}.{tfinal}'))[:, 0]\n",
    "gradU_1 = np.loadtxt(os.path.join(results_dir, f'gradU.flow_{flow}.{tfinal}'))\n",
    "time_scale_1 = np.loadtxt(os.path.join(results_dir, f'timeScale.flow_{flow}.{tfinal}'))\n",
    "tke_1 = np.loadtxt(os.path.join(results_dir, f'tke.flow_{flow}.{tfinal}'))\n",
    "b_1 = get_b(g_1, gradU_1, time_scale_1)\n",
    "a_1 = b2a(b_1, tke_1)\n",
    "W_1 = np.loadtxt(os.path.join(results_dir, f'w.{tfinal}'))\n",
    "theta_1 = get_scalar_invariants(gradU_1, time_scale_1)\n",
    "g_1_org = np.copy(g_1)\n",
    "theta_1_org = np.copy(theta_1)\n",
    "if plot_full_channel:\n",
    "    theta_1 = np.concatenate([theta_1, theta_1[::-1]])\n",
    "    g_1 = np.concatenate([g_1, g_1[::-1]])\n",
    "    U_1 = np.concatenate([U_1, U_1[::-1]])\n",
    "    b_1 = np.concatenate([b_1, b_1[::-1]])\n",
    "    a_1 = np.concatenate([a_1, a_1[::-1]])"
   ]
  },
  {
   "cell_type": "markdown",
   "metadata": {},
   "source": [
    "# Training"
   ]
  },
  {
   "cell_type": "markdown",
   "metadata": {},
   "source": [
    "### Cost"
   ]
  },
  {
   "cell_type": "code",
   "execution_count": 16,
   "metadata": {
    "scrolled": false
   },
   "outputs": [
    {
     "data": {
      "text/plain": [
       "(0.0, 200.0)"
      ]
     },
     "execution_count": 16,
     "metadata": {},
     "output_type": "execute_result"
    },
    {
     "data": {
      "image/png": "[encoded data removed]",
      "text/plain": [
       "<Figure size 432x288 with 1 Axes>"
      ]
     },
     "metadata": {
      "needs_background": "light"
     },
     "output_type": "display_data"
    },
    {
     "data": {
      "image/png": "[encoded data removed]",
      "text/plain": [
       "<Figure size 432x288 with 1 Axes>"
      ]
     },
     "metadata": {
      "needs_background": "light"
     },
     "output_type": "display_data"
    }
   ],
   "source": [
    "fig, ax = plt.subplots()\n",
    "ax.plot(J[:tfinal+1], '-')\n",
    "ax.set_xlabel(r'iteration')\n",
    "ax.set_ylabel(r'$J$')\n",
    "ax.set_title(r'Cost $J$')\n",
    "ax.set_ylim(0., np.max(J[:tfinal+1]))\n",
    "ax.set_xlim(0., tfinal)\n",
    "    \n",
    "fig, ax = plt.subplots()\n",
    "ax.semilogy(J[:tfinal+1], '-')\n",
    "ax.set_xlabel(r'iteration')\n",
    "ax.set_ylabel(r'$J$')\n",
    "ax.set_title(r'Cost $J$')\n",
    "ax.set_xlim(0., tfinal)"
   ]
  },
  {
   "cell_type": "markdown",
   "metadata": {},
   "source": [
    "### Weights (initial and final values)"
   ]
  },
  {
   "cell_type": "code",
   "execution_count": 7,
   "metadata": {
    "scrolled": false
   },
   "outputs": [
    {
     "data": {
      "text/plain": [
       "[<matplotlib.lines.Line2D at 0x7f1d262bb970>]"
      ]
     },
     "execution_count": 7,
     "metadata": {},
     "output_type": "execute_result"
    },
    {
     "data": {
      "image/png": "[encoded data removed]",
      "text/plain": [
       "<Figure size 432x288 with 1 Axes>"
      ]
     },
     "metadata": {
      "needs_background": "light"
     },
     "output_type": "display_data"
    }
   ],
   "source": [
    "plt.figure()\n",
    "plt.title(r'Weights $W$')\n",
    "plt.xlabel(r'Initial Weight')\n",
    "plt.ylabel(r'Final Weight')\n",
    "\n",
    "line = [min(np.min(W_0), np.min(W_1)), max(np.max(W_0), np.max(W_1))]\n",
    "plt.plot(line, [0., 0.], 'k--', alpha=0.5)\n",
    "plt.plot([0., 0.], line, 'k--', alpha=0.5)\n",
    "\n",
    "plt.plot(W_0, W_1, 'ko')\n",
    "plt.plot(line,line, 'y-', alpha=0.5)\n"
   ]
  },
  {
   "cell_type": "markdown",
   "metadata": {},
   "source": [
    "# PUBLICATION RESULTS PLOTS"
   ]
  },
  {
   "cell_type": "code",
   "execution_count": 8,
   "metadata": {},
   "outputs": [
    {
     "data": {
      "text/plain": [
       "<Figure size 158.4x172.8 with 0 Axes>"
      ]
     },
     "metadata": {},
     "output_type": "display_data"
    }
   ],
   "source": [
    "import matplotlib as mpl\n",
    "mpl.use(\"pgf\")\n",
    "mpl.rcParams.update({\n",
    "    'pgf.texsystem': 'pdflatex',\n",
    "    'font.family': 'serif',\n",
    "    'text.usetex': True,\n",
    "    'pgf.rcfonts': False,\n",
    "    'image.origin': 'lower',\n",
    "    'image.interpolation': 'nearest',\n",
    "    'figure.autolayout': True,\n",
    "    'axes.grid': False,\n",
    "    'axes.labelsize': 10,\n",
    "    'axes.titlesize': 12,\n",
    "    'font.size': 10,\n",
    "    'legend.fontsize': 10,\n",
    "    'xtick.labelsize': 8,\n",
    "    'ytick.labelsize': 8,\n",
    "    'savefig.dpi': 500,\n",
    "    'lines.linewidth': 1.5,\n",
    "    'lines.markersize': 6,\n",
    "})\n",
    "\n",
    "# Figure sizes: JFM text width = 5.3 in, aspect ratio of 1.6 looks good\n",
    "jfm_one = [4.0, 2.5] # JFM single image\n",
    "jfm_two = [2.2, 2.4] # JFM two images\n",
    "\n",
    "ylim = 0.5/H\n",
    "if plot_full_channel:\n",
    "    ylim *= 2.0\n",
    "\n",
    "\n",
    "# legend \n",
    "label_0 = 'Initial'\n",
    "label_i = 'Intermediate'\n",
    "label_1 = 'Final'\n",
    "label_t = 'Truth'\n",
    "label_o = 'Observation'\n",
    "label_c = 'Trained'\n",
    "\n",
    "line_0 = {'linestyle': '-.', 'marker': None, 'color': 'tab:red'}\n",
    "line_i = {'linestyle': ':', 'marker': None, 'color': 'tab:cyan'}\n",
    "line_1 = {'linestyle': '--', 'marker': None, 'color': 'tab:blue'}\n",
    "line_t = {'linestyle': '-', 'marker': None, 'color': 'tab:gray', 'linewidth': 1.0} \n",
    "line_o = {'linestyle': 'None', 'marker': 'x', 'color': 'tab:gray', 'markersize': 8.0} \n",
    "line_c = {'linestyle': ':', 'marker': None, 'color': 'tab:purple', 'linewidth':3}\n",
    "\n",
    "getline = lambda x: mpl.lines.Line2D([0], [0], **x)\n",
    "if plot_int:\n",
    "    lines = [getline(line_t), getline(line_o), getline(line_0), getline(line_i), getline(line_1)]\n",
    "    labels = [label_t, label_o, label_0, label_i, label_1]\n",
    "else:\n",
    "    lines = [getline(line_t), getline(line_o), getline(line_0), getline(line_1)]\n",
    "    labels = [label_t, label_o, label_0, label_1]\n",
    "if plot_cpp:\n",
    "    lines.append(getline(line_c))\n",
    "    labels.append(label_c)\n",
    "\n",
    "fig = plt.figure(figsize = jfm_two)\n",
    "fig.legend(lines, labels, 'center')\n",
    "if savefigs:\n",
    "    fig.savefig(save_dir + '/channel_legend' + '.' + fig_ext)"
   ]
  },
  {
   "cell_type": "markdown",
   "metadata": {},
   "source": [
    "## Scalar function g"
   ]
  },
  {
   "cell_type": "code",
   "execution_count": 9,
   "metadata": {
    "scrolled": true
   },
   "outputs": [
    {
     "data": {
      "image/png": "[encoded data removed]",
      "text/plain": [
       "<Figure size 158.4x172.8 with 1 Axes>"
      ]
     },
     "metadata": {
      "needs_background": "light"
     },
     "output_type": "display_data"
    }
   ],
   "source": [
    "if savefigs:\n",
    "    plt.figure(figsize = jfm_two)\n",
    "else:\n",
    "    plt.figure()\n",
    "\n",
    "# truth\n",
    "plt.plot(g_t, y, **line_t, label=label_t)\n",
    "    \n",
    "# initial\n",
    "plt.plot(g_0, y, **line_0, label=label_0)\n",
    "\n",
    "# intermediate\n",
    "if plot_int:\n",
    "    plt.plot(g_i, y, **line_i, label=label_i)    \n",
    "\n",
    "# final\n",
    "plt.plot(g_1, y, **line_1, label=label_1)\n",
    "\n",
    "# C++\n",
    "if plot_cpp:\n",
    "    plt.plot(g_c, y, **line_c, label=label_c)\n",
    "\n",
    "# layout\n",
    "plt.xlabel(r'Function $g^{(1)}$')\n",
    "plt.ylabel('Position $y/h$') \n",
    "plt.ylim([0.0, ylim])  \n",
    "\n",
    "# save\n",
    "if savefigs:\n",
    "    plt.savefig(save_dir + '/channel_g' + '.'  + fig_ext)"
   ]
  },
  {
   "cell_type": "code",
   "execution_count": 10,
   "metadata": {},
   "outputs": [
    {
     "data": {
      "text/plain": [
       "Text(0, 0.5, '$g^{(1)}$')"
      ]
     },
     "execution_count": 10,
     "metadata": {},
     "output_type": "execute_result"
    },
    {
     "data": {
      "image/png": "[encoded data removed]",
      "text/plain": [
       "<Figure size 432x288 with 1 Axes>"
      ]
     },
     "metadata": {
      "needs_background": "light"
     },
     "output_type": "display_data"
    },
    {
     "data": {
      "image/png": "[encoded data removed]",
      "text/plain": [
       "<Figure size 432x288 with 1 Axes>"
      ]
     },
     "metadata": {
      "needs_background": "light"
     },
     "output_type": "display_data"
    }
   ],
   "source": [
    "plt.figure()\n",
    "plt.plot(theta_t_org, g_t_org, **line_t)\n",
    "if plot_cpp:\n",
    "    plt.plot(theta_c_org, g_c_org, **line_c)\n",
    "plt.plot(theta_0_org, g_0_org, **line_0)\n",
    "if plot_int:\n",
    "    plt.plot(theta_i_org, g_i_org, **line_i)\n",
    "plt.plot(theta_1_org, g_1_org, **line_1)\n",
    "plt.xlabel(r'$\\theta_1$')\n",
    "plt.ylabel(r'$g^{(1)}$')\n",
    "\n",
    "\n",
    "plt.figure()\n",
    "plt.plot(theta_t_org, g_t_org, **line_t)\n",
    "if plot_cpp:\n",
    "    map_c = [i and j for i,j in zip(theta_c_org <= np.max(theta_t_org), theta_c_org >= np.min(theta_t_org))]\n",
    "    plt.plot(theta_c_org[map_c], g_c_org[map_c], **line_0)\n",
    "map_0 = [i[0] and j[0] for i,j in zip(theta_0_org <= np.max(theta_t_org), theta_0_org >= np.min(theta_t_org))]\n",
    "plt.plot(theta_0_org[map_0], g_0_org[map_0], **line_0)\n",
    "if plot_int:\n",
    "    map_i = [i[0] and j[0] for i,j in zip(theta_i_org <= np.max(theta_t_org), theta_i_org >= np.min(theta_t_org))]\n",
    "    plt.plot(theta_i_org[map_i], g_i_org[map_i], **line_0)\n",
    "map_1 = [i[0] and j[0] for i,j in zip(theta_1_org <= np.max(theta_t_org), theta_1_org >= np.min(theta_t_org))]\n",
    "plt.plot(theta_1_org[map_1], g_1_org[map_1], **line_1)\n",
    "plt.xlabel(r'$\\theta_1$')\n",
    "plt.ylabel(r'$g^{(1)}$')"
   ]
  },
  {
   "cell_type": "markdown",
   "metadata": {},
   "source": [
    "## Velocity"
   ]
  },
  {
   "cell_type": "code",
   "execution_count": 11,
   "metadata": {},
   "outputs": [
    {
     "data": {
      "image/png": "[encoded data removed]",
      "text/plain": [
       "<Figure size 158.4x172.8 with 1 Axes>"
      ]
     },
     "metadata": {
      "needs_background": "light"
     },
     "output_type": "display_data"
    }
   ],
   "source": [
    "if savefigs:\n",
    "    plt.figure(figsize = jfm_two)\n",
    "else:\n",
    "    plt.figure()\n",
    "\n",
    "# initial\n",
    "plt.plot(U_0, y, **line_0, label=label_0)\n",
    "\n",
    "# intermediate\n",
    "if plot_int:\n",
    "    plt.plot(U_i, y, **line_i, label=label_i)\n",
    "\n",
    "# final\n",
    "plt.plot(U_1, y, **line_1, label=label_1)\n",
    "\n",
    "# C++\n",
    "if plot_cpp:\n",
    "    plt.plot(U_c, y, **line_c, label=label_c)\n",
    "\n",
    "# truth\n",
    "plt.plot(U_t, y, **line_t, label=label_t)\n",
    "\n",
    "# observation \n",
    "for (iUx, iy) in points:\n",
    "    plt.plot(iUx, iy/H, **line_o, label=label_o)\n",
    "\n",
    "# layout\n",
    "plt.xlabel(r'Velocity $u_x$')\n",
    "plt.ylabel('Position $y/h$')\n",
    "plt.ylim([0.0, ylim])  \n",
    "xlim = plt.gca().get_xlim()[1]\n",
    "plt.xlim([0.0, xlim])\n",
    "\n",
    "# save\n",
    "if savefigs:\n",
    "    plt.savefig(save_dir + '/channel_U' + '.' + fig_ext)"
   ]
  },
  {
   "cell_type": "markdown",
   "metadata": {},
   "source": [
    "## Reynolds Stress"
   ]
  },
  {
   "cell_type": "code",
   "execution_count": 12,
   "metadata": {},
   "outputs": [
    {
     "data": {
      "image/png": "[encoded data removed]",
      "text/plain": [
       "<Figure size 158.4x172.8 with 1 Axes>"
      ]
     },
     "metadata": {
      "needs_background": "light"
     },
     "output_type": "display_data"
    }
   ],
   "source": [
    "if savefigs:\n",
    "    plt.figure(figsize = jfm_two)\n",
    "else:\n",
    "    plt.figure()\n",
    "\n",
    "tau_0 = a_0[:, 1]\n",
    "if plot_int:\n",
    "    tau_i = a_i[:, 1]\n",
    "tau_1 = a_1[:, 1]\n",
    "tau_t = a_t[:, 1]\n",
    "if plot_cpp:\n",
    "    tau_c = a_c[:, 1]\n",
    "\n",
    "# initial\n",
    "plt.plot(tau_0, y, **line_0, label=label_0)\n",
    "\n",
    "# intermediate\n",
    "if plot_int:\n",
    "    plt.plot(tau_i, y, **line_i, label=label_i)\n",
    "\n",
    "# final\n",
    "plt.plot(tau_1, y, **line_1, label=label_1)\n",
    "\n",
    "# C++\n",
    "if plot_cpp:\n",
    "    plt.plot(tau_c, y, **line_c, label=label_c)\n",
    "\n",
    "# truth\n",
    "plt.plot(tau_t, y, **line_t, label=label_t)\n",
    "\n",
    "# layout\n",
    "plt.xlabel(r'Reynolds stress $\\tau_{xy}$')\n",
    "plt.ylabel('Position $y/h$')\n",
    "plt.ylim([0.0, ylim])  \n",
    "\n",
    "# save\n",
    "if savefigs:\n",
    "    plt.savefig(save_dir + '/channel_tau'  + '.' + fig_ext)"
   ]
  },
  {
   "cell_type": "code",
   "execution_count": 13,
   "metadata": {
    "scrolled": true
   },
   "outputs": [
    {
     "data": {
      "text/plain": [
       "(0.0, 1.0)"
      ]
     },
     "execution_count": 13,
     "metadata": {},
     "output_type": "execute_result"
    },
    {
     "data": {
      "image/png": "[encoded data removed]",
      "text/plain": [
       "<Figure size 432x288 with 1 Axes>"
      ]
     },
     "metadata": {
      "needs_background": "light"
     },
     "output_type": "display_data"
    }
   ],
   "source": [
    "# plt.figure(figsize = jfm_two)\n",
    "plt.figure()\n",
    "\n",
    "tau_0 = b_0[:, 1]\n",
    "if plot_int:\n",
    "    tau_i = b_i[:, 1]\n",
    "tau_1 = b_1[:, 1]\n",
    "tau_t = b_t[:, 1]\n",
    "if plot_cpp:\n",
    "    tau_c = b_c[:, 1]\n",
    "\n",
    "# initial\n",
    "plt.plot(tau_0, y, **line_0, label=label_0)\n",
    "\n",
    "# intermediate\n",
    "if plot_int:\n",
    "    plt.plot(tau_i, y, **line_i, label=label_i)\n",
    "\n",
    "# final\n",
    "plt.plot(tau_1, y, **line_1, label=label_1)\n",
    "\n",
    "# C++\n",
    "if plot_cpp:\n",
    "    plt.plot(tau_c, y, **line_c, label=label_c)\n",
    "    \n",
    "# truth\n",
    "plt.plot(tau_t, y, **line_t, label=label_t)\n",
    "\n",
    "# layout\n",
    "plt.xlabel(r'Reynolds stress $\\tau_{xy}/2k$')\n",
    "plt.ylabel('Position $y/h$')\n",
    "plt.ylim([0.0, ylim])  "
   ]
  },
  {
   "cell_type": "markdown",
   "metadata": {},
   "source": [
    "# $\\Theta$"
   ]
  },
  {
   "cell_type": "code",
   "execution_count": 14,
   "metadata": {},
   "outputs": [
    {
     "data": {
      "text/plain": [
       "Text(0, 0.5, '$y$')"
      ]
     },
     "execution_count": 14,
     "metadata": {},
     "output_type": "execute_result"
    },
    {
     "data": {
      "image/png": "[encoded data removed]",
      "text/plain": [
       "<Figure size 432x288 with 1 Axes>"
      ]
     },
     "metadata": {
      "needs_background": "light"
     },
     "output_type": "display_data"
    }
   ],
   "source": [
    "plt.figure()\n",
    "plt.plot(theta_t, y, **line_t)\n",
    "plt.plot(theta_1, y, **line_1)\n",
    "plt.plot(theta_0, y, **line_0)\n",
    "if plot_int:\n",
    "    plt.plot(theta_i, y, **line_i)\n",
    "if plot_cpp:\n",
    "    plt.plot(theta_c, y, **line_c)\n",
    "plt.xlabel(r'$\\theta_1$')\n",
    "plt.ylabel(r'$y$')"
   ]
  },
  {
   "cell_type": "code",
   "execution_count": null,
   "metadata": {},
   "outputs": [],
   "source": []
  }
 ],
 "metadata": {
  "kernelspec": {
   "display_name": "Python 3",
   "language": "python",
   "name": "python3"
  },
  "language_info": {
   "codemirror_mode": {
    "name": "ipython",
    "version": 3
   },
   "file_extension": ".py",
   "mimetype": "text/x-python",
   "name": "python",
   "nbconvert_exporter": "python",
   "pygments_lexer": "ipython3",
   "version": "3.8.5"
  }
 },
 "nbformat": 4,
 "nbformat_minor": 2
}
