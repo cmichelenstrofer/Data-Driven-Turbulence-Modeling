{
 "cells": [
  {
   "cell_type": "markdown",
   "metadata": {},
   "source": [
    "### Modules and constants"
   ]
  },
  {
   "cell_type": "code",
   "execution_count": null,
   "metadata": {},
   "outputs": [],
   "source": [
    "import os\n",
    "\n",
    "%matplotlib inline \n",
    "import numpy as np\n",
    "import matplotlib.pyplot as plt\n",
    "import scipy.interpolate as interp\n",
    "from matplotlib import colors\n",
    "\n",
    "VECTORDIM = 3\n",
    "TENSORSQRTDIM = 3\n",
    "TENSORDIM = 9\n",
    "DEVSYMTENSORDIM = 5\n",
    "DEVSYMTENSOR_INDEX = [0,1,2,4,5]\n",
    "\n",
    "nscalar_invariants = 2\n",
    "nbasis_tensors = 4"
   ]
  },
  {
   "cell_type": "markdown",
   "metadata": {},
   "source": [
    "### Case specifics and plotting options"
   ]
  },
  {
   "cell_type": "code",
   "execution_count": null,
   "metadata": {},
   "outputs": [],
   "source": [
    "tinit = 0\n",
    "tfinal = 100\n",
    "data_dir = 'data'\n",
    "\n",
    "results_dir = 'results' \n",
    "foam_dir = 'foam_primal' \n",
    "\n",
    "mesh_shape = [50, 50]\n",
    "flow = 0\n",
    "\n",
    "scaleUx = 0.5\n",
    "scaleUy = 500.0\n",
    "scaleUz = 500.0\n",
    "\n",
    "lim_option = 'same'  # ['different', 'same']\n",
    "subfigsize = 3\n",
    "cmap = 'Spectral'\n",
    "save_figures = False\n",
    "save_fig_dir = 'figures' \n",
    "fig_ext = 'png'\n",
    "contour = False"
   ]
  },
  {
   "cell_type": "markdown",
   "metadata": {},
   "source": [
    "### Physics functions"
   ]
  },
  {
   "cell_type": "code",
   "execution_count": null,
   "metadata": {},
   "outputs": [],
   "source": [
    "def get_tensor_basis(gradU, time_scale):\n",
    "    ncells = len(time_scale)\n",
    "    T = np.zeros([ncells, DEVSYMTENSORDIM, nbasis_tensors])\n",
    "    for i, (igradU, it) in enumerate(zip(gradU, time_scale)):\n",
    "        igradU = igradU.reshape([TENSORSQRTDIM, TENSORSQRTDIM])\n",
    "        S = it * 0.5*(igradU + igradU.T)\n",
    "        R = it * 0.5*(igradU - igradU.T)\n",
    "        T1 = S\n",
    "        T2 = S @ R - R @ S\n",
    "        T3 = minus_thirdtrace(S @ S)\n",
    "        T4 = minus_thirdtrace(R @ R)\n",
    "        for j, iT in enumerate([T1, T2, T3, T4]):\n",
    "            iT = iT.reshape([TENSORDIM])\n",
    "            T[i, :, j] = iT[DEVSYMTENSOR_INDEX]\n",
    "    return T\n",
    "\n",
    "\n",
    "def minus_thirdtrace(x):\n",
    "    return x - 1./3.*np.trace(x)*np.eye(TENSORSQRTDIM)\n",
    "\n",
    "\n",
    "def shih_quadratic(theta):\n",
    "    def g1(theta):\n",
    "        num = -2./3.\n",
    "        denom = 1.25 + np.sqrt(2 * theta[:, 0]) + 0.9 * np.sqrt(-2 * theta[:, 1])\n",
    "        return num/denom\n",
    "\n",
    "    def g234(theta, coeff):\n",
    "        return coeff / (1000. + (2 * theta[:, 0])**(3./2.))\n",
    "\n",
    "    g = np.empty([len(theta), nbasis_tensors])\n",
    "    g[:, 0] = g1(theta)\n",
    "    for i, c in enumerate([7.5, 1.5, -9.5]):\n",
    "        g[:, i+1] = g234(theta, c)\n",
    "    return g\n",
    "\n",
    "\n",
    "def get_b(g, gradU, time_scale):\n",
    "    T = get_tensor_basis(gradU, time_scale)\n",
    "    return _get_b(g, T)\n",
    "\n",
    "\n",
    "def _get_b(g, T):\n",
    "    return np.sum(np.expand_dims(g,1) * T, axis=-1)\n",
    "\n",
    "\n",
    "def b2a(b, k):\n",
    "    return 2 * np.expand_dims(np.squeeze(k), -1) * b"
   ]
  },
  {
   "cell_type": "markdown",
   "metadata": {},
   "source": [
    "### Plotting functions"
   ]
  },
  {
   "cell_type": "code",
   "execution_count": null,
   "metadata": {},
   "outputs": [],
   "source": [
    "def plot_comp(y, z, val, col_names, row_names, cmap='coolwarm', contour=False, lim_option='same', norm=True):\n",
    "    Nrows = len(row_names)\n",
    "    Ncols = len(col_names)\n",
    "    lim = []\n",
    "    if lim_option=='same':\n",
    "        for i in range(Nrows):\n",
    "            if norm:\n",
    "                lim.append((min(-np.finfo(float).eps, np.min(val[-1][:, i])), max(np.finfo(float).eps, np.max(val[-1][:, i]))))\n",
    "            else:\n",
    "                lim.append((np.min(val[-1][:, i]), np.max(val[-1][:, i])))\n",
    "    fig, axs = plt.subplots(Nrows, Ncols, figsize=((Ncols+0.5)*subfigsize, (Nrows+0.5)*subfigsize))\n",
    "    for irow in range (Nrows):\n",
    "        for icol in range(Ncols): \n",
    "            if contour:\n",
    "                if lim_option=='same':\n",
    "                    divnorm = colors.TwoSlopeNorm(vcenter=0, vmin=lim[irow][0], vmax=lim[irow][1])\n",
    "                    cs = axs[irow, icol].contourf(rs(y), rs(z), rs(val[icol][:,irow]), cmap=cmap, vmin=lim[irow][0], vmax=lim[irow][1])\n",
    "                elif lim_option=='different': \n",
    "                    cs = axs[irow, icol].contourf(rs(y), rs(z), rs(val[icol][:,irow]), cmap=cmap)\n",
    "                    cbar = fig.colorbar(cs, ax=axs[irow, icol], shrink=0.95)\n",
    "            else:\n",
    "                if lim_option=='same':\n",
    "                    if norm:\n",
    "                        divnorm = colors.TwoSlopeNorm(vcenter=0, vmin=lim[irow][0], vmax=lim[irow][1])\n",
    "                        cs = axs[irow,icol].pcolor(rs(y), rs(z), rs(val[icol][:,irow]), cmap=cmap, norm=divnorm, shading='auto')\n",
    "                    else:\n",
    "                        cs = axs[irow,icol].pcolor(rs(y), rs(z), rs(val[icol][:,irow]), cmap=cmap, vmin=lim[irow][0], vmax=lim[irow][1], shading='auto')\n",
    "                elif lim_option=='different': \n",
    "                    cs = axs[irow,icol].pcolor(rs(y), rs(z), rs(val[icol][:,irow]), cmap=cmap, norm=norm, shading='auto')\n",
    "                    cbar = fig.colorbar(cs, ax=axs[irow, icol], shrink=0.75)\n",
    "            plt.setp(axs[irow,icol].get_xticklabels(), visible=False)\n",
    "            plt.setp(axs[irow,icol].get_yticklabels(), visible=False)\n",
    "            axs[irow,icol].tick_params(axis='both', which='both', length=0)\n",
    "            if icol==0:\n",
    "                axs[irow,icol].set_ylabel(row_names[irow])\n",
    "            if irow==0:\n",
    "                axs[irow,icol].set_title(col_names[icol])\n",
    "            axs[irow, icol].set_aspect('equal', 'box')\n",
    "        if not contour and lim_option=='same':\n",
    "            cbar = fig.colorbar(cs, ax=axs[irow], shrink=0.75)\n",
    "    return fig, axs\n",
    "\n",
    "\n",
    "def rs(x):\n",
    "    return x.reshape(mesh_shape)\n"
   ]
  },
  {
   "cell_type": "markdown",
   "metadata": {},
   "source": [
    "### Load data"
   ]
  },
  {
   "cell_type": "code",
   "execution_count": null,
   "metadata": {},
   "outputs": [],
   "source": [
    "# coordinates\n",
    "x = np.loadtxt(os.path.join(data_dir, 'x'))\n",
    "y = np.loadtxt(os.path.join(data_dir, 'y'))\n",
    "z = np.loadtxt(os.path.join(data_dir, 'z'))\n",
    "ncells = mesh_shape[0] * mesh_shape[1]\n",
    "\n",
    "# # cost\n",
    "J = []\n",
    "for i in range(tinit, tfinal+1):\n",
    "    iJ = np.loadtxt(os.path.join(results_dir, f'J.{i}'))\n",
    "    J.append(iJ.tolist())\n",
    "\n",
    "# initial\n",
    "g_0 = np.loadtxt(os.path.join(results_dir, f'g.{tinit}')) \n",
    "if nbasis_tensors==1:\n",
    "    g_0 = np.expand_dims(np.squeeze(g_0), -1)\n",
    "U_0 = np.loadtxt(os.path.join(results_dir, f'U.flow_{flow}.{tinit}'))\n",
    "gradU_0 = np.loadtxt(os.path.join(results_dir, f'gradU.flow_{flow}.{tinit}'))\n",
    "time_scale_0 = np.loadtxt(os.path.join(results_dir, f'timeScale.flow_{flow}.{tinit}'))\n",
    "tke_0 = np.loadtxt(os.path.join(results_dir, f'tke.flow_{flow}.{tinit}'))\n",
    "b_0 = get_b(g_0, gradU_0, time_scale_0)\n",
    "a_0 = b2a(b_0, tke_0)\n",
    "W_0 = np.loadtxt(os.path.join(results_dir, f'w.{tinit}'))\n",
    "\n",
    "# final\n",
    "g_1 = np.loadtxt(os.path.join(results_dir, f'g.{tfinal}')) \n",
    "if nbasis_tensors==1:\n",
    "    g_0 = np.expand_dims(np.squeeze(g_0), -1)\n",
    "U_1 = np.loadtxt(os.path.join(results_dir, f'U.flow_{flow}.{tfinal}'))\n",
    "gradU_1 = np.loadtxt(os.path.join(results_dir, f'gradU.flow_{flow}.{tfinal}'))\n",
    "time_scale_1 = np.loadtxt(os.path.join(results_dir, f'timeScale.flow_{flow}.{tfinal}'))\n",
    "tke_1 = np.loadtxt(os.path.join(results_dir, f'tke.flow_{flow}.{tfinal}'))\n",
    "b_1 = get_b(g_1, gradU_1, time_scale_1)\n",
    "a_1 = b2a(b_1, tke_1)\n",
    "W_1 = np.loadtxt(os.path.join(results_dir, f'w.{tfinal}'))\n",
    "\n",
    "# truth\n",
    "theta_t = np.load(os.path.join(data_dir, 'scalar_invariants.npy'))[:, :nscalar_invariants]\n",
    "g_t = shih_quadratic(theta_t)\n",
    "U_t = np.zeros([ncells, VECTORDIM])\n",
    "for i, x in enumerate(['x', 'y', 'z']):\n",
    "    U_t[:, i] = np.loadtxt(os.path.join(data_dir, f'U{x}FullField'))\n",
    "T_t = np.load(os.path.join(data_dir, 'basis_tensors.npy'))[:, :, :nbasis_tensors]\n",
    "tke_t = np.load(os.path.join(data_dir, 'tke.npy'))\n",
    "b_t = _get_b(g_t, T_t)\n",
    "a_t = b2a(b_t, tke_t)\n",
    "\n",
    "def get_theta_tilde(gradU, time_scale):\n",
    "    ncells = len(time_scale)\n",
    "    theta_tilde = np.zeros([ncells, 1])\n",
    "    theta = np.zeros([ncells, 1])\n",
    "    for i, (igradU, it) in enumerate(zip(gradU, time_scale)):\n",
    "        igradU = igradU.reshape([TENSORSQRTDIM, TENSORSQRTDIM])\n",
    "        theta_tilde[i] = it**2 * 0.5 * (igradU[1,0]**2 + igradU[2,0]**2)\n",
    "        S = it * 0.5*(igradU + igradU.T)\n",
    "        S2 = S @ S\n",
    "        theta[i] = np.trace(S2)\n",
    "    return theta_tilde, theta"
   ]
  },
  {
   "cell_type": "markdown",
   "metadata": {},
   "source": [
    "### Verify $\\theta_1\\approx\\tilde{\\theta}$"
   ]
  },
  {
   "cell_type": "code",
   "execution_count": null,
   "metadata": {},
   "outputs": [],
   "source": [
    "# theta_tilde_1, theta_1 = get_theta_tilde(gradU_1, time_scale_1)\n",
    "# plt.figure()\n",
    "# plt.plot(theta_1[:,0], theta_tilde_1, 'o')\n",
    "# # plt.plot(theta_1[:,0], theta_t[:,0], 'o')\n",
    "# plt.show()\n"
   ]
  },
  {
   "cell_type": "markdown",
   "metadata": {},
   "source": [
    "# Cost"
   ]
  },
  {
   "cell_type": "code",
   "execution_count": null,
   "metadata": {
    "scrolled": false
   },
   "outputs": [],
   "source": [
    "fig, ax = plt.subplots()\n",
    "ax.plot(J[:tfinal+1], '-')\n",
    "ax.set_xlabel(r'iteration')\n",
    "ax.set_ylabel(r'$J$')\n",
    "ax.set_title(r'Cost $J$')\n",
    "ax.set_ylim(0., np.max(J[:tfinal+1]))\n",
    "ax.set_xlim(0., tfinal)\n",
    "\n",
    "    \n",
    "fig, ax = plt.subplots()\n",
    "ax.semilogy(J[:tfinal+1], '-')\n",
    "ax.set_xlabel(r'iteration')\n",
    "ax.set_ylabel(r'$J$')\n",
    "ax.set_title(r'Cost $J$')\n",
    "limlow = 10**np.floor(np.log10(np.min(J[:tfinal+1])))\n",
    "ax.set_ylim(limlow, np.max(J[:tfinal+1]))\n",
    "ax.set_xlim(0., tfinal);"
   ]
  },
  {
   "cell_type": "markdown",
   "metadata": {},
   "source": [
    "# Weights"
   ]
  },
  {
   "cell_type": "code",
   "execution_count": null,
   "metadata": {
    "scrolled": false
   },
   "outputs": [],
   "source": [
    "# plt.figure()\n",
    "# plt.title(r'Weights $W$')\n",
    "# plt.xlabel(r'Initial Weight')\n",
    "# plt.ylabel(r'Final Weight')\n",
    "# line = [min(np.min(W_0), np.min(W_1)), max(np.max(W_0), np.max(W_1))]\n",
    "# plt.plot(line, [0., 0.], 'k-', alpha=0.5)\n",
    "# plt.plot([0., 0.], line, 'k-', alpha=0.5)\n",
    "# plt.plot(W_0, W_1, 'ko')\n",
    "# plt.plot(line, line, 'y-', alpha=0.5)\n",
    "# plt.xlim(line)"
   ]
  },
  {
   "cell_type": "markdown",
   "metadata": {},
   "source": [
    "## $g$ functions"
   ]
  },
  {
   "cell_type": "code",
   "execution_count": null,
   "metadata": {},
   "outputs": [],
   "source": [
    "# plt.figure()\n",
    "# # plt.plot(theta_t[:, 0], theta_1[:, 0], 'o', color='tab:grey')\n",
    "# plt.plot(g_t[:, 0], g_1[:, 0], 'o', color='tab:grey')\n",
    "# lim = [np.min(g_t[:, 0]), np.max(g_t[:, 0])]\n",
    "# plt.plot(lim, lim, 'k-')"
   ]
  },
  {
   "cell_type": "code",
   "execution_count": null,
   "metadata": {
    "scrolled": false
   },
   "outputs": [],
   "source": [
    "def g_inplane(g):\n",
    "    return g[:, 1] - 0.5*g[:, 2] + 0.5*g[:, 3]\n",
    "\n",
    "g_0n = np.zeros([ncells, 2])\n",
    "g_0n[:, 0] = g_0[:, 0]\n",
    "g_0n[:, 1] = g_inplane(g_0)\n",
    "\n",
    "g_1n = np.zeros([ncells, 2])\n",
    "g_1n[:, 0] = g_1[:, 0]\n",
    "g_1n[:, 1] = g_inplane(g_1)\n",
    "\n",
    "g_tn = np.zeros([ncells, 2])\n",
    "g_tn[:, 0] = g_t[:, 0]\n",
    "g_tn[:, 1] = g_inplane(g_t)\n",
    "\n",
    "col_names = ['Initial', 'Final', 'True']\n",
    "row_names = [r'$g^{(1)}$', r'$g^{(2)} - 0.5g^{(3)} + 0.5g^{(4)}$']\n",
    "values = [g_0n, g_1n, g_tn]\n",
    "\n",
    "plot_comp(y, z, values, col_names, row_names, cmap=cmap, contour=False, lim_option=lim_option, norm=False)"
   ]
  },
  {
   "cell_type": "markdown",
   "metadata": {},
   "source": [
    "## Velocity"
   ]
  },
  {
   "cell_type": "code",
   "execution_count": null,
   "metadata": {},
   "outputs": [],
   "source": [
    "contour = False\n",
    "cmap = 'Spectral'\n",
    "row_names = [r'$u_x$', r'$u_y$'] \n",
    "col_names = ['Initial', 'Final', 'True']\n",
    "values = [U_0[:, :2], U_1[:, :2], U_t[:, :2]]\n",
    "fig, axs = plot_comp(y, z, values, col_names, row_names, cmap=cmap, contour=contour, lim_option=lim_option, norm=True)"
   ]
  },
  {
   "cell_type": "code",
   "execution_count": null,
   "metadata": {
    "scrolled": true
   },
   "outputs": [],
   "source": [
    "cellid = 5\n",
    "\n",
    "fig, axs = plt.subplots(1, 3, figsize=(10, 5))\n",
    "\n",
    "axs[0].plot(rs(U_t[:, 0]*scaleUx)[:,cellid], rs(y)[cellid, :], 'k-')\n",
    "axs[0].plot(rs(U_0[:, 0]*scaleUx)[:,cellid], rs(y)[cellid, :], 'r--')\n",
    "axs[0].plot(rs(U_1[:, 0]*scaleUx)[:,cellid], rs(y)[cellid, :], 'b--')\n",
    "axs[0].set_ylabel('$x_2$')\n",
    "axs[0].set_xlabel('$U_1$')\n",
    "\n",
    "\n",
    "axs[1].plot(rs(U_t[:, 1]*scaleUy)[:,cellid], rs(y)[cellid, :], 'k-')\n",
    "axs[1].plot(rs(U_0[:, 1]*scaleUy)[:,cellid], rs(y)[cellid, :], 'r--')\n",
    "axs[1].plot(rs(U_1[:, 1]*scaleUy)[:,cellid], rs(y)[cellid, :], 'b--')\n",
    "axs[1].set_xlabel('$1000~U_2$')\n",
    "\n",
    "axs[2].plot(rs(U_t[:, 2]*scaleUz)[:,cellid], rs(y)[cellid, :], 'k-', label='truth')\n",
    "axs[2].plot(rs(U_0[:, 2]*scaleUz)[:,cellid], rs(y)[cellid, :], 'r--', label='initial')\n",
    "axs[2].plot(rs(U_1[:, 2]*scaleUz)[:,cellid], rs(y)[cellid, :], 'b--', label='final')\n",
    "axs[2].set_xlabel('$1000~U_3$')\n",
    "axs[2].legend()"
   ]
  },
  {
   "cell_type": "markdown",
   "metadata": {},
   "source": [
    "## Reynolds stress"
   ]
  },
  {
   "cell_type": "code",
   "execution_count": null,
   "metadata": {
    "scrolled": false
   },
   "outputs": [],
   "source": [
    "cmap = 'Spectral'\n",
    "\n",
    "Tau_0n = np.zeros([ncells, 3])\n",
    "Tau_0n[:, 0] = a_0[:, 1]\n",
    "Tau_0n[:, 1] = a_0[:, 4]\n",
    "Tau_0n[:, 2] = 2*a_0[:, 3] + a_0[:, 0]\n",
    "\n",
    "Tau_tn = np.zeros([ncells, 3])\n",
    "Tau_tn[:, 0] = a_t[:, 1]\n",
    "Tau_tn[:, 1] = a_t[:, 4]\n",
    "Tau_tn[:, 2] = 2*a_t[:, 3] + a_t[:, 0]\n",
    "\n",
    "Tau_1n = np.zeros([ncells, 3])\n",
    "Tau_1n[:, 0] = a_1[:, 1]\n",
    "Tau_1n[:, 1] = a_1[:, 4]\n",
    "Tau_1n[:, 2] = 2*a_1[:, 3] + a_1[:, 0]\n",
    "\n",
    "row_names = [r'$\\tau_{12}$', r'$\\tau_{23}$', r'$\\tau_{22}-\\tau_{33}$']\n",
    "values = [Tau_0n, Tau_1n, Tau_tn]\n",
    "fig, axs = plot_comp(y, z, values, col_names, row_names, cmap=cmap, contour=contour, lim_option=lim_option, norm=True)\n"
   ]
  },
  {
   "cell_type": "markdown",
   "metadata": {},
   "source": [
    "# For PUBLICATION"
   ]
  },
  {
   "cell_type": "code",
   "execution_count": null,
   "metadata": {},
   "outputs": [],
   "source": [
    "import matplotlib as mpl\n",
    "# mpl.use(\"pgf\")\n",
    "mpl.rcParams.update({\n",
    "    'pgf.texsystem': 'pdflatex',\n",
    "    'font.family': 'serif',\n",
    "    'text.usetex': True,\n",
    "    'pgf.rcfonts': False,\n",
    "    'image.origin': 'lower',\n",
    "    'image.interpolation': 'nearest',\n",
    "    'figure.autolayout': True,\n",
    "    'axes.grid': False,\n",
    "    'axes.labelsize': 10,\n",
    "    'axes.titlesize': 12,\n",
    "    'font.size': 10,\n",
    "    'legend.fontsize': 10,\n",
    "    'xtick.labelsize': 8,\n",
    "    'ytick.labelsize': 8,\n",
    "    'savefig.dpi': 500,\n",
    "    'lines.linewidth': 1.5,\n",
    "    'lines.markersize': 6,\n",
    "})\n",
    "\n",
    "# Figure sizes: JFM text width = 5.3 in, aspect ratio of 1.6 looks good\n",
    "jfm_one = [4.0, 2.5] # JFM single image\n",
    "jfm_one_two = [4.5, 5.0] # JFM single image, double height\n",
    "jfm_two = [2.2, 2.4] # JFM two images\n"
   ]
  },
  {
   "cell_type": "markdown",
   "metadata": {},
   "source": [
    "## g"
   ]
  },
  {
   "cell_type": "code",
   "execution_count": null,
   "metadata": {
    "scrolled": false
   },
   "outputs": [],
   "source": [
    "\n",
    "def g_inplane(g):\n",
    "    return g[:, 1] - 0.5*g[:, 2] + 0.5*g[:, 3]\n",
    "\n",
    "thetat = theta_t[:,0]\n",
    "_, theta0 = get_theta_tilde(gradU_0, time_scale_0)\n",
    "_, theta1 = get_theta_tilde(gradU_1, time_scale_1)\n",
    "\n",
    "\n",
    "line_t = {'color': 'tab:grey', 'linestyle': 'none', 'marker': 'o'}\n",
    "line_0 = {'color': 'tab:red', 'linestyle': 'none', 'marker': 'o', 'markersize': 1}\n",
    "line_1 = {'color': 'tab:blue', 'linestyle': 'none', 'marker': 'o', 'markersize': 1}\n",
    "\n",
    "# g1 function vs theta\n",
    "fig, ax = plt.subplots(1, 1, figsize=jfm_two)\n",
    "ax.plot(thetat, g_t[:, 0], **line_t)\n",
    "ax.plot(theta0, g_0[:, 0], **line_0)\n",
    "ax.plot(theta1, g_1[:, 0], **line_1)\n",
    "ax.set_xlabel(r'$\\theta_1$')\n",
    "ax.set_ylabel(r'$g^{(1)}$')\n",
    "if save_figures:\n",
    "    plt.savefig(f'{save_fig_dir}/duct_g1.{fig_ext}')\n",
    "\n",
    "# g2 function vs theta\n",
    "fig, ax = plt.subplots(1, 1, figsize=jfm_two)\n",
    "lt = ax.plot(thetat, g_inplane(g_t), **line_t)\n",
    "l0 = ax.plot(theta0, g_inplane(g_0), **line_0)\n",
    "l1 = ax.plot(theta1, g_inplane(g_1), **line_1)\n",
    "ax.set_xlabel(r'$\\theta_1$')\n",
    "ax.set_ylabel(r'$g^{(2)} - 0.5g^{(3)} + 0.5g^{(4)}$') \n",
    "if save_figures:\n",
    "    plt.savefig(f'{save_fig_dir}/duct_g2.{fig_ext}')\n",
    "    \n",
    "# legend\n",
    "figlegend = plt.figure(figsize=(3,0.3))\n",
    "lines = [lt[0], l0[0], l1[0]]\n",
    "labels = ['Truth', 'Initial', 'Final']\n",
    "figlegend.legend(lines, labels, 'center', ncol=len(labels))\n",
    "if save_figures:\n",
    "    figlegend.savefig(f'{save_fig_dir}/duct_g_legend.{fig_ext}')"
   ]
  },
  {
   "cell_type": "markdown",
   "metadata": {},
   "source": [
    "## $\\theta$"
   ]
  },
  {
   "cell_type": "code",
   "execution_count": null,
   "metadata": {
    "scrolled": true
   },
   "outputs": [],
   "source": [
    "fig = plt.figure(figsize = jfm_one)\n",
    "tt = theta_t[:,0].copy()\n",
    "# N = 5\n",
    "# tt[tt<=N]=np.nan\n",
    "# tt[tt>=N]=1.0\n",
    "divnorm = colors.TwoSlopeNorm(vcenter=0)\n",
    "cs = plt.pcolor(rs(y), rs(z), rs(tt), cmap=cmap, norm=divnorm, shading='auto')\n",
    "\n",
    "ax = plt.gca()\n",
    "plt.setp(ax.get_xticklabels(), visible=False)\n",
    "plt.setp(ax.get_yticklabels(), visible=False)\n",
    "ax.tick_params(axis='both', which='both', length=0)\n",
    "ax.set_aspect('equal', 'box')\n",
    "\n",
    "if save_figures:\n",
    "    fig.savefig(f'{save_fig_dir}/duct_theta.{fig_ext}')\n",
    "\n",
    "\n",
    "\n",
    "fig = plt.figure(figsize=jfm_one)\n",
    "ax = plt.gca()\n",
    "plt.colorbar(cs,ax=ax, orientation='vertical', shrink=0.9)\n",
    "ax.remove()\n",
    "if save_figures:\n",
    "    fig.savefig(f'{save_fig_dir}/duct_theta_cb.{fig_ext}', bbox_inches='tight')"
   ]
  },
  {
   "cell_type": "markdown",
   "metadata": {},
   "source": [
    "## Velocity"
   ]
  },
  {
   "cell_type": "code",
   "execution_count": null,
   "metadata": {},
   "outputs": [],
   "source": [
    "# PLOT VELOCITIES SEPARATELY\n",
    "cmap = 'Spectral'\n",
    "names = ['Ux', 'Uy']\n",
    "ps = ['0', '1', 't']\n",
    "XY = ['x', 'y']\n",
    "\n",
    "for i in range(2):\n",
    "    val = [U_0[:, i], U_1[:, i], U_t[:, i]]\n",
    "    name = f'duct_{names[i]}'\n",
    "    vmin = min(-np.finfo(float).eps, np.min(val[-1]))\n",
    "    vmax = max(np.finfo(float).eps, np.max(val[-1]))\n",
    "    divnorm = colors.TwoSlopeNorm(vcenter=0, vmin=vmin, vmax=vmax)\n",
    "    for j, ival in enumerate(val):\n",
    "        fig = plt.figure(figsize=(2.0, 2.0))\n",
    "        ax = plt.gca()\n",
    "        cs = ax.pcolor(rs(y), rs(z), rs(ival), cmap=cmap, norm=divnorm, shading='auto')\n",
    "        plt.setp(ax.get_xticklabels(), visible=False)\n",
    "        plt.setp(ax.get_yticklabels(), visible=False)\n",
    "        ax.tick_params(axis='both', which='both', length=0)\n",
    "        ax.set_aspect('equal', 'box')\n",
    "        if save_figures:\n",
    "            fig.savefig(f\"{save_fig_dir}/{name}_{ps[j]}.{fig_ext}\")\n",
    "\n",
    "\n",
    "    fig = plt.figure(figsize=(2.0, 2.0))\n",
    "    ax = plt.gca()\n",
    "    plt.colorbar(cs,ax=ax, orientation='vertical', shrink=0.6)\n",
    "    ax.remove()\n",
    "    if save_figures:\n",
    "        fig.savefig(f'{save_fig_dir}/duct_U{XY[i]}_cb.{fig_ext}',bbox_inches='tight')\n"
   ]
  },
  {
   "cell_type": "markdown",
   "metadata": {},
   "source": [
    "# Reynolds Stress"
   ]
  },
  {
   "cell_type": "code",
   "execution_count": null,
   "metadata": {},
   "outputs": [],
   "source": [
    "# PLOT REYNOLDS STRESSES SEPARATELY\n",
    "\n",
    "names = ['tau12', 'tau23', 'tau22-tau33']\n",
    "ps = ['0', '1', 't']\n",
    "\n",
    "for i in range(3):\n",
    "    name = names[i]\n",
    "    val = [Tau_0n[:, i], Tau_1n[:, i], Tau_tn[:, i]]\n",
    "    vmin = min(-np.finfo(float).eps, np.min(val[-1]))\n",
    "    vmax = max(np.finfo(float).eps, np.max(val[-1]))\n",
    "    divnorm = colors.TwoSlopeNorm(vcenter=0, vmin=vmin, vmax=vmax)\n",
    "    for j, ival in enumerate(val):\n",
    "        fig = plt.figure(figsize=(2.0, 2.0))\n",
    "        ax = plt.gca()\n",
    "        cs = ax.pcolor(rs(y), rs(z), rs(ival), cmap=cmap, norm=divnorm, shading='auto')\n",
    "\n",
    "        plt.setp(ax.get_xticklabels(), visible=False)\n",
    "        plt.setp(ax.get_yticklabels(), visible=False)\n",
    "        ax.tick_params(axis='both', which='both', length=0)\n",
    "        ax.set_aspect('equal', 'box')\n",
    "        if save_figures:\n",
    "            fig.savefig(f'{save_fig_dir}/duct_{name}_{ps[j]}.{fig_ext}',bbox_inches='tight')\n",
    "\n",
    "\n",
    "    fig = plt.figure(figsize=(2.0, 2.0))\n",
    "    ax = plt.gca()\n",
    "    plt.colorbar(cs,ax=ax, orientation='vertical', shrink=0.6)\n",
    "    ax.remove()\n",
    "    if save_figures:\n",
    "        fig.savefig(f'{save_fig_dir}/duct_{name}_cb.{fig_ext}',bbox_inches='tight')"
   ]
  },
  {
   "cell_type": "code",
   "execution_count": null,
   "metadata": {},
   "outputs": [],
   "source": []
  }
 ],
 "metadata": {
  "kernelspec": {
   "display_name": "Python 3",
   "language": "python",
   "name": "python3"
  },
  "language_info": {
   "codemirror_mode": {
    "name": "ipython",
    "version": 3
   },
   "file_extension": ".py",
   "mimetype": "text/x-python",
   "name": "python",
   "nbconvert_exporter": "python",
   "pygments_lexer": "ipython3",
   "version": "3.8.5"
  }
 },
 "nbformat": 4,
 "nbformat_minor": 2
}
