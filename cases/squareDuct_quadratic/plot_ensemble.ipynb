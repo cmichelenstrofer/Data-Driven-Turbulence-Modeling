{
 "cells": [
  {
   "cell_type": "code",
   "execution_count": null,
   "metadata": {},
   "outputs": [],
   "source": [
    "import os\n",
    "\n",
    "%matplotlib inline \n",
    "import numpy as np\n",
    "import matplotlib.pyplot as plt\n"
   ]
  },
  {
   "cell_type": "markdown",
   "metadata": {},
   "source": [
    "### case"
   ]
  },
  {
   "cell_type": "code",
   "execution_count": null,
   "metadata": {},
   "outputs": [],
   "source": [
    "tinit = 0\n",
    "tfinal = 85\n",
    "results_dir = 'results_ensemble'\n",
    "sample_dir = os.path.join(results_dir, 'samples')\n",
    "data_dir = 'data'\n",
    "mesh_shape = [50, 50]\n",
    "ncells = mesh_shape[0] * mesh_shape[1]"
   ]
  },
  {
   "cell_type": "markdown",
   "metadata": {},
   "source": [
    "### load data"
   ]
  },
  {
   "cell_type": "code",
   "execution_count": null,
   "metadata": {},
   "outputs": [],
   "source": [
    "g_0 = np.loadtxt(os.path.join(results_dir, f'g.{tinit}')) \n",
    "g_1 = np.loadtxt(os.path.join(results_dir, f'g.{tfinal}')) \n",
    "\n",
    "g1_0_samps =  np.loadtxt(os.path.join(sample_dir, f'flow_0.samps_g_0_iter_{tinit}'))\n",
    "g1_1_samps =  np.loadtxt(os.path.join(sample_dir, f'flow_0.samps_g_0_iter_{tfinal}'))\n",
    "\n",
    "g2_0_samps =  np.loadtxt(os.path.join(sample_dir, f'flow_0.samps_g_1_iter_{tinit}'))\n",
    "g2_1_samps =  np.loadtxt(os.path.join(sample_dir, f'flow_0.samps_g_1_iter_{tfinal}'))\n",
    "\n",
    "g3_0_samps =  np.loadtxt(os.path.join(sample_dir, f'flow_0.samps_g_2_iter_{tinit}'))\n",
    "g3_1_samps =  np.loadtxt(os.path.join(sample_dir, f'flow_0.samps_g_2_iter_{tfinal}'))\n",
    "\n",
    "g4_0_samps =  np.loadtxt(os.path.join(sample_dir, f'flow_0.samps_g_3_iter_{tinit}'))\n",
    "g4_1_samps =  np.loadtxt(os.path.join(sample_dir, f'flow_0.samps_g_3_iter_{tfinal}'))\n",
    "\n",
    "gsamps_0 = [g1_0_samps, g2_0_samps, g3_0_samps, g4_0_samps]\n",
    "gsamps_1 = [g1_1_samps, g2_1_samps, g3_1_samps, g4_1_samps]\n",
    "\n",
    "H_0_samps = np.loadtxt(os.path.join(sample_dir, f'flow_0.samps_H_measurement_0_iter_{tinit}'))\n",
    "H_1_samps = np.loadtxt(os.path.join(sample_dir, f'flow_0.samps_H_measurement_0_iter_{tfinal}'))\n",
    "nsamples = g1_0_samps.shape[1]\n",
    "\n",
    "x = np.loadtxt(os.path.join(data_dir, 'x'))\n",
    "y = np.loadtxt(os.path.join(data_dir, 'y'))\n",
    "z = np.loadtxt(os.path.join(data_dir, 'z'))\n",
    "\n"
   ]
  },
  {
   "cell_type": "markdown",
   "metadata": {},
   "source": [
    "### plotting functions"
   ]
  },
  {
   "cell_type": "code",
   "execution_count": null,
   "metadata": {},
   "outputs": [],
   "source": [
    "def rs(x):\n",
    "    return x.reshape(mesh_shape)\n",
    "\n",
    "yy = rs(y)\n",
    "zz = rs(z)\n",
    "zp = zz[:,0]\n",
    "zp = np.concatenate([zp, 2-zp[::-1]])\n",
    "\n",
    "ZZ, YY = np.meshgrid(zp, zp)\n",
    "\n",
    "def plot_yProfile(val, index, **kwarg):\n",
    "    VAL = rs(val)\n",
    "    vp = VAL[:, index]\n",
    "    vp = np.concatenate([vp, vp[::-1]])\n",
    "    plt.plot(vp, zp, **kwarg)\n",
    "    \n",
    "def mirror(VV):\n",
    "    VV = np.flipud(VV)\n",
    "    VVm = np.zeros([mesh_shape[0]*2, mesh_shape[1]*2])\n",
    "    VVm[:mesh_shape[0], :mesh_shape[1]] = np.flipud(VV)\n",
    "    VVm[mesh_shape[0]:, :mesh_shape[1]] = VV\n",
    "    VVm[:mesh_shape[0], mesh_shape[1]:] = np.flipud(np.fliplr(VV))\n",
    "    VVm[mesh_shape[0]:, mesh_shape[1]:] = np.fliplr(VV)\n",
    "    return VVm\n",
    "    \n",
    "def plot_pcolor_m(val, **kwarg):\n",
    "    ax = plt.gca()\n",
    "    VAL = mirror(rs(val))\n",
    "    pc = plt.pcolor(YY, ZZ, VAL, shading='auto', **kwarg)\n",
    "    plt.setp(ax.get_xticklabels(), visible=False)\n",
    "    plt.setp(ax.get_yticklabels(), visible=False)\n",
    "    ax.set_aspect('equal', 'box')\n",
    "    ax.tick_params(axis='both', which='both', length=0)\n",
    "    return pc\n",
    "\n",
    "def plot_pcolor(val, **kwarg):\n",
    "    ax = plt.gca()\n",
    "    VAL = mirror(rs(val))\n",
    "    pc = plt.pcolor(yy, zz, rs(val), shading='auto', **kwarg)\n",
    "    plt.setp(ax.get_xticklabels(), visible=False)\n",
    "    plt.setp(ax.get_yticklabels(), visible=False)\n",
    "    ax.set_aspect('equal', 'box')\n",
    "    ax.tick_params(axis='both', which='both', length=0)\n",
    "    return pc"
   ]
  },
  {
   "cell_type": "markdown",
   "metadata": {},
   "source": [
    "## Plot $g$ and samples"
   ]
  },
  {
   "cell_type": "code",
   "execution_count": null,
   "metadata": {},
   "outputs": [],
   "source": [
    "# SPECIFY CASE\n",
    "case = 'init' # 'init' (t=0) or 'final' (t=tfinal) \n",
    "gfunc = 1 # 1-4 (g1, g2, g3, g4)\n",
    "index = 40 # 0-49 (which cell to use to plot profile)"
   ]
  },
  {
   "cell_type": "code",
   "execution_count": null,
   "metadata": {},
   "outputs": [],
   "source": [
    "if case == 'init':\n",
    "    g = g_0\n",
    "    gsamps = gsamps_0[gfunc-1]\n",
    "elif case == 'final':\n",
    "    g = g_1\n",
    "    gsamps = gsamps_1[gfunc-1]\n",
    "    "
   ]
  },
  {
   "cell_type": "code",
   "execution_count": null,
   "metadata": {},
   "outputs": [],
   "source": [
    "plt.figure()\n",
    "plot_yProfile(g[:, 0], index, color='tab:blue')\n",
    "for i in range(nsamples):\n",
    "    plot_yProfile(gsamps[:, i], index, color='tab:blue', alpha=0.25, linewidth=0.5)"
   ]
  },
  {
   "cell_type": "code",
   "execution_count": null,
   "metadata": {
    "scrolled": false
   },
   "outputs": [],
   "source": [
    "fig = plt.figure()\n",
    "pc = plot_pcolor_m(g[:,0])\n",
    "plt.plot([zp[index], zp[index]], [0, 2], 'w--')\n",
    "fig.colorbar(pc)\n",
    "\n",
    "fig = plt.figure()\n",
    "pc = plot_pcolor(g[:,0])\n",
    "plt.plot([zp[index], zp[index]], [0, 1], 'w--')\n",
    "fig.colorbar(pc)"
   ]
  },
  {
   "cell_type": "markdown",
   "metadata": {},
   "source": [
    "### plot a sample"
   ]
  },
  {
   "cell_type": "code",
   "execution_count": null,
   "metadata": {},
   "outputs": [],
   "source": [
    "samp_index = 7"
   ]
  },
  {
   "cell_type": "code",
   "execution_count": null,
   "metadata": {},
   "outputs": [],
   "source": [
    "val = gsamps[:, samp_index]\n",
    "\n",
    "fig = plt.figure()\n",
    "pc = plot_pcolor_m(val)\n",
    "fig.colorbar(pc)\n",
    "\n",
    "fig = plt.figure()\n",
    "pc = plot_pcolor(val)\n",
    "fig.colorbar(pc)"
   ]
  },
  {
   "cell_type": "code",
   "execution_count": null,
   "metadata": {},
   "outputs": [],
   "source": []
  }
 ],
 "metadata": {
  "kernelspec": {
   "display_name": "Python 3",
   "language": "python",
   "name": "python3"
  },
  "language_info": {
   "codemirror_mode": {
    "name": "ipython",
    "version": 3
   },
   "file_extension": ".py",
   "mimetype": "text/x-python",
   "name": "python",
   "nbconvert_exporter": "python",
   "pygments_lexer": "ipython3",
   "version": "3.8.5"
  }
 },
 "nbformat": 4,
 "nbformat_minor": 2
}
